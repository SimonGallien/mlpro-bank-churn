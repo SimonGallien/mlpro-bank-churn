{
 "cells": [
  {
   "cell_type": "markdown",
   "id": "30e8c399",
   "metadata": {},
   "source": [
    "# mlpro-classification-bank-churn-2025"
   ]
  },
  {
   "cell_type": "markdown",
   "id": "1f69a7d0",
   "metadata": {},
   "source": [
    "L’objectif de ce projet est de prédire si un client va continuer à utiliser les services de la banque ou s’il va clôturer son compte (churn)"
   ]
  },
  {
   "cell_type": "markdown",
   "id": "16e4e9d9",
   "metadata": {},
   "source": [
    " ## Overview\n",
    "\n",
    " L’objectif de ce projet est de prédire si un client va continuer à utiliser les services de la banque ou s’il va clôturer son compte (churn). Pour ce faire, nous disposons d’un ensemble de données clients contenant plusieurs caractéristiques démographiques, financières et comportementales. Nous devons développer un modèle de prédiction capable de déterminer, pour chaque client, s'il va résilier ou non car cela permet aux banques de mettre en place des stratégies de rétention efficaces."
   ]
  },
  {
   "cell_type": "markdown",
   "id": "17ab5aec",
   "metadata": {},
   "source": [
    "## Description\n",
    "\n",
    "Voici les explications pour chaque variable:\n",
    "\n",
    "- Customer ID : Un identifiant unique pour chaque client\n",
    "- Surname : Le nom de famille du client\n",
    "- Credit Score : Une valeur numérique représentant le score de crédit du client\n",
    "- Geography : Le pays où réside le client (France, Spain ou Germany)\n",
    "- Gender : Le genre du client (Male or Female)\n",
    "- Age : L’âge du client\n",
    "- Tenure : Le nombre d’années pendant lesquelles le client est avec la banque\n",
    "- Balance : Le solde du compte du client\n",
    "- NumOfProducts : Le nombre de produits bancaires utilisés par le client (par exemple, compte d’épargne, carte de crédit)\n",
    "- HasCrCard : Si le client possède une carte de crédit (1 = oui, 0 = non)\n",
    "- IsActiveMember : Si le client est un membre actif (1 = oui, 0 = non)\n",
    "- EstimatedSalary : Le salaire estimé du client\n",
    "- Exited : Si le client a résilié (1 = oui, 0 = non)"
   ]
  },
  {
   "cell_type": "markdown",
   "id": "5be5a7b5",
   "metadata": {},
   "source": [
    "## Evaluation\n",
    "\n",
    "Pour évaluer les résultats, nous utiliserons le score F1.\n",
    "\n",
    "## Submission\n",
    "\n",
    "Pour chaque ID du test set, Vous devez prédire si oui (1) ou non (0) le client va clôturer son compte à la banque. Le fichier doit contenir deux colonnes, ID et Exited, en respectant ce format:\n",
    "\n",
    "ID,Exited\n",
    "- 2,0\n",
    "- 5,0\n",
    "- 6,1\n",
    "- etc."
   ]
  }
 ],
 "metadata": {
  "kernelspec": {
   "display_name": "Poetry (mlpro-bank-churn)",
   "language": "python",
   "name": "mlpro-bank-churn"
  },
  "language_info": {
   "name": "python",
   "version": "3.12.3"
  }
 },
 "nbformat": 4,
 "nbformat_minor": 5
}
