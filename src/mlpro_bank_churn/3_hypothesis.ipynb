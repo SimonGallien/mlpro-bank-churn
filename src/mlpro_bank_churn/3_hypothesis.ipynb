{
 "cells": [
  {
   "cell_type": "markdown",
   "id": "e1bf1a98",
   "metadata": {},
   "source": [
    "Hypothèses testées et résultats :\n",
    "\n",
    "1. Les femmes sont plus nombreuses à résilier que les hommes<br>\n",
    "✅ Test du Khi² → p-value ≈ 0 → Nous avons suffisamment d’évidence pour rejeter H₀<br>\n",
    "📌 Le sexe est un facteur significativement associé à la résiliation.\n",
    "\n",
    "2. Les clients ayant 1 seul produit résilient plus que ceux en ayant 2<br>\n",
    "✅ Test du Khi² → p-value ≈ 0 → H₀ rejetée<br>\n",
    "📌 Posséder peu de produits est corrélé à un taux de churn plus élevé.\n",
    "\n",
    "3. Les clients allemands résilient plus que les Français et Espagnols<br>\n",
    "✅ Test du Khi² sur la variable Geography → p-value ≈ 0 → H₀ rejetée<br>\n",
    "📌 Le pays d’origine influence significativement le comportement de résiliation.\n",
    "\n",
    "4. Les clients actifs résilient plus que les clients inactifs<br>\n",
    "✅ Test du Khi² → p-value ≈ 0 → H₀ rejetée<br>\n",
    "📌 À l’inverse de ce qu’on pourrait penser, l'activité est liée à un taux de churn plus élevé dans cet échantillon.\n",
    "\n",
    "5. Les clients avec un solde élevé résilient plus souvent<br>\n",
    "✅ Test de student à 2 échantillons indépendants → p-value ≈ 0 → H₀ rejetée<br>\n",
    "📌 Un solde plus élevé est associé à un risque de résiliation accru.\n",
    "\n",
    "6. Les clients âgés de 44 ans et plus résilient plus souvent<br>\n",
    "✅ Test de student à 2 échantillons indépendants → p-value ≈ 0 → H₀ rejetée<br>\n",
    "📌 L’âge est un facteur significativement lié à la résiliation."
   ]
  },
  {
   "cell_type": "code",
   "execution_count": 2,
   "id": "5a8c97c2",
   "metadata": {},
   "outputs": [],
   "source": [
    "### Import des packages\n",
    "import numpy as np\n",
    "import pandas as pd\n",
    "import seaborn as sns\n",
    "import matplotlib.pyplot as plt\n",
    "from scipy.stats import chi2_contingency, ttest_ind"
   ]
  },
  {
   "cell_type": "code",
   "execution_count": 3,
   "id": "466dbb06",
   "metadata": {},
   "outputs": [
    {
     "data": {
      "text/html": [
       "<div>\n",
       "<style scoped>\n",
       "    .dataframe tbody tr th:only-of-type {\n",
       "        vertical-align: middle;\n",
       "    }\n",
       "\n",
       "    .dataframe tbody tr th {\n",
       "        vertical-align: top;\n",
       "    }\n",
       "\n",
       "    .dataframe thead th {\n",
       "        text-align: right;\n",
       "    }\n",
       "</style>\n",
       "<table border=\"1\" class=\"dataframe\">\n",
       "  <thead>\n",
       "    <tr style=\"text-align: right;\">\n",
       "      <th></th>\n",
       "      <th>ID</th>\n",
       "      <th>CustomerId</th>\n",
       "      <th>Surname</th>\n",
       "      <th>CreditScore</th>\n",
       "      <th>Geography</th>\n",
       "      <th>Gender</th>\n",
       "      <th>Age</th>\n",
       "      <th>Tenure</th>\n",
       "      <th>Balance</th>\n",
       "      <th>NumOfProducts</th>\n",
       "      <th>HasCrCard</th>\n",
       "      <th>IsActiveMember</th>\n",
       "      <th>EstimatedSalary</th>\n",
       "      <th>Exited</th>\n",
       "    </tr>\n",
       "  </thead>\n",
       "  <tbody>\n",
       "    <tr>\n",
       "      <th>0</th>\n",
       "      <td>37765</td>\n",
       "      <td>15794860</td>\n",
       "      <td>Ch'eng</td>\n",
       "      <td>627</td>\n",
       "      <td>France</td>\n",
       "      <td>Male</td>\n",
       "      <td>28.0</td>\n",
       "      <td>7</td>\n",
       "      <td>131694.04</td>\n",
       "      <td>1</td>\n",
       "      <td>1.0</td>\n",
       "      <td>1.0</td>\n",
       "      <td>161205.61</td>\n",
       "      <td>0</td>\n",
       "    </tr>\n",
       "    <tr>\n",
       "      <th>1</th>\n",
       "      <td>130453</td>\n",
       "      <td>15728005</td>\n",
       "      <td>Hargreaves</td>\n",
       "      <td>597</td>\n",
       "      <td>France</td>\n",
       "      <td>Male</td>\n",
       "      <td>34.0</td>\n",
       "      <td>2</td>\n",
       "      <td>0.00</td>\n",
       "      <td>2</td>\n",
       "      <td>0.0</td>\n",
       "      <td>1.0</td>\n",
       "      <td>181419.29</td>\n",
       "      <td>0</td>\n",
       "    </tr>\n",
       "    <tr>\n",
       "      <th>2</th>\n",
       "      <td>77297</td>\n",
       "      <td>15686810</td>\n",
       "      <td>Ts'ui</td>\n",
       "      <td>724</td>\n",
       "      <td>France</td>\n",
       "      <td>Male</td>\n",
       "      <td>39.0</td>\n",
       "      <td>7</td>\n",
       "      <td>0.00</td>\n",
       "      <td>2</td>\n",
       "      <td>1.0</td>\n",
       "      <td>1.0</td>\n",
       "      <td>100862.54</td>\n",
       "      <td>0</td>\n",
       "    </tr>\n",
       "    <tr>\n",
       "      <th>3</th>\n",
       "      <td>40858</td>\n",
       "      <td>15760244</td>\n",
       "      <td>Trevisano</td>\n",
       "      <td>663</td>\n",
       "      <td>Germany</td>\n",
       "      <td>Female</td>\n",
       "      <td>56.0</td>\n",
       "      <td>5</td>\n",
       "      <td>118577.24</td>\n",
       "      <td>3</td>\n",
       "      <td>1.0</td>\n",
       "      <td>0.0</td>\n",
       "      <td>61164.45</td>\n",
       "      <td>1</td>\n",
       "    </tr>\n",
       "    <tr>\n",
       "      <th>4</th>\n",
       "      <td>19804</td>\n",
       "      <td>15810563</td>\n",
       "      <td>French</td>\n",
       "      <td>627</td>\n",
       "      <td>France</td>\n",
       "      <td>Female</td>\n",
       "      <td>33.0</td>\n",
       "      <td>5</td>\n",
       "      <td>0.00</td>\n",
       "      <td>2</td>\n",
       "      <td>1.0</td>\n",
       "      <td>1.0</td>\n",
       "      <td>103737.82</td>\n",
       "      <td>0</td>\n",
       "    </tr>\n",
       "    <tr>\n",
       "      <th>...</th>\n",
       "      <td>...</td>\n",
       "      <td>...</td>\n",
       "      <td>...</td>\n",
       "      <td>...</td>\n",
       "      <td>...</td>\n",
       "      <td>...</td>\n",
       "      <td>...</td>\n",
       "      <td>...</td>\n",
       "      <td>...</td>\n",
       "      <td>...</td>\n",
       "      <td>...</td>\n",
       "      <td>...</td>\n",
       "      <td>...</td>\n",
       "      <td>...</td>\n",
       "    </tr>\n",
       "    <tr>\n",
       "      <th>22012</th>\n",
       "      <td>98611</td>\n",
       "      <td>15592494</td>\n",
       "      <td>Mazzi</td>\n",
       "      <td>431</td>\n",
       "      <td>Germany</td>\n",
       "      <td>Female</td>\n",
       "      <td>33.0</td>\n",
       "      <td>5</td>\n",
       "      <td>152235.92</td>\n",
       "      <td>1</td>\n",
       "      <td>1.0</td>\n",
       "      <td>0.0</td>\n",
       "      <td>109342.82</td>\n",
       "      <td>0</td>\n",
       "    </tr>\n",
       "    <tr>\n",
       "      <th>22013</th>\n",
       "      <td>108483</td>\n",
       "      <td>15632987</td>\n",
       "      <td>Zetticci</td>\n",
       "      <td>625</td>\n",
       "      <td>Spain</td>\n",
       "      <td>Female</td>\n",
       "      <td>44.0</td>\n",
       "      <td>2</td>\n",
       "      <td>0.00</td>\n",
       "      <td>1</td>\n",
       "      <td>1.0</td>\n",
       "      <td>1.0</td>\n",
       "      <td>88820.41</td>\n",
       "      <td>0</td>\n",
       "    </tr>\n",
       "    <tr>\n",
       "      <th>22014</th>\n",
       "      <td>8752</td>\n",
       "      <td>15571053</td>\n",
       "      <td>Ts'ai</td>\n",
       "      <td>717</td>\n",
       "      <td>France</td>\n",
       "      <td>Female</td>\n",
       "      <td>28.0</td>\n",
       "      <td>7</td>\n",
       "      <td>166501.68</td>\n",
       "      <td>1</td>\n",
       "      <td>1.0</td>\n",
       "      <td>1.0</td>\n",
       "      <td>102730.26</td>\n",
       "      <td>0</td>\n",
       "    </tr>\n",
       "    <tr>\n",
       "      <th>22015</th>\n",
       "      <td>151078</td>\n",
       "      <td>15777224</td>\n",
       "      <td>T'ang</td>\n",
       "      <td>622</td>\n",
       "      <td>France</td>\n",
       "      <td>Female</td>\n",
       "      <td>47.0</td>\n",
       "      <td>5</td>\n",
       "      <td>0.00</td>\n",
       "      <td>1</td>\n",
       "      <td>1.0</td>\n",
       "      <td>0.0</td>\n",
       "      <td>144825.50</td>\n",
       "      <td>1</td>\n",
       "    </tr>\n",
       "    <tr>\n",
       "      <th>22016</th>\n",
       "      <td>108504</td>\n",
       "      <td>15754930</td>\n",
       "      <td>Fiorentini</td>\n",
       "      <td>487</td>\n",
       "      <td>France</td>\n",
       "      <td>Male</td>\n",
       "      <td>45.0</td>\n",
       "      <td>9</td>\n",
       "      <td>0.00</td>\n",
       "      <td>2</td>\n",
       "      <td>1.0</td>\n",
       "      <td>0.0</td>\n",
       "      <td>112928.51</td>\n",
       "      <td>0</td>\n",
       "    </tr>\n",
       "  </tbody>\n",
       "</table>\n",
       "<p>22017 rows × 14 columns</p>\n",
       "</div>"
      ],
      "text/plain": [
       "           ID  CustomerId     Surname  CreditScore Geography  Gender   Age  \\\n",
       "0       37765    15794860      Ch'eng          627    France    Male  28.0   \n",
       "1      130453    15728005  Hargreaves          597    France    Male  34.0   \n",
       "2       77297    15686810       Ts'ui          724    France    Male  39.0   \n",
       "3       40858    15760244   Trevisano          663   Germany  Female  56.0   \n",
       "4       19804    15810563      French          627    France  Female  33.0   \n",
       "...       ...         ...         ...          ...       ...     ...   ...   \n",
       "22012   98611    15592494       Mazzi          431   Germany  Female  33.0   \n",
       "22013  108483    15632987    Zetticci          625     Spain  Female  44.0   \n",
       "22014    8752    15571053       Ts'ai          717    France  Female  28.0   \n",
       "22015  151078    15777224       T'ang          622    France  Female  47.0   \n",
       "22016  108504    15754930  Fiorentini          487    France    Male  45.0   \n",
       "\n",
       "       Tenure    Balance  NumOfProducts  HasCrCard  IsActiveMember  \\\n",
       "0           7  131694.04              1        1.0             1.0   \n",
       "1           2       0.00              2        0.0             1.0   \n",
       "2           7       0.00              2        1.0             1.0   \n",
       "3           5  118577.24              3        1.0             0.0   \n",
       "4           5       0.00              2        1.0             1.0   \n",
       "...       ...        ...            ...        ...             ...   \n",
       "22012       5  152235.92              1        1.0             0.0   \n",
       "22013       2       0.00              1        1.0             1.0   \n",
       "22014       7  166501.68              1        1.0             1.0   \n",
       "22015       5       0.00              1        1.0             0.0   \n",
       "22016       9       0.00              2        1.0             0.0   \n",
       "\n",
       "       EstimatedSalary  Exited  \n",
       "0            161205.61       0  \n",
       "1            181419.29       0  \n",
       "2            100862.54       0  \n",
       "3             61164.45       1  \n",
       "4            103737.82       0  \n",
       "...                ...     ...  \n",
       "22012        109342.82       0  \n",
       "22013         88820.41       0  \n",
       "22014        102730.26       0  \n",
       "22015        144825.50       1  \n",
       "22016        112928.51       0  \n",
       "\n",
       "[22017 rows x 14 columns]"
      ]
     },
     "execution_count": 3,
     "metadata": {},
     "output_type": "execute_result"
    }
   ],
   "source": [
    "df_train = pd.read_csv(\"train_data.csv\")\n",
    "df_train = df_train.drop_duplicates(subset=\"CustomerId\", keep=\"first\")\n",
    "df_train.reset_index(drop=True)"
   ]
  },
  {
   "cell_type": "markdown",
   "id": "6eae1d23",
   "metadata": {},
   "source": [
    "# 1. Les femmes sont plus nombreuses à résilier que les hommes"
   ]
  },
  {
   "cell_type": "markdown",
   "id": "5c2f36fb",
   "metadata": {},
   "source": [
    "Test chi2 contingency\n",
    "\n",
    "HO : \"Le nombre de clients qui résilient (Exited) et le sexe (Gender) sont 2 variables indépendantes l'une de l'autre\""
   ]
  },
  {
   "cell_type": "code",
   "execution_count": 4,
   "id": "0a5f6ba2",
   "metadata": {},
   "outputs": [
    {
     "data": {
      "text/html": [
       "<div>\n",
       "<style scoped>\n",
       "    .dataframe tbody tr th:only-of-type {\n",
       "        vertical-align: middle;\n",
       "    }\n",
       "\n",
       "    .dataframe tbody tr th {\n",
       "        vertical-align: top;\n",
       "    }\n",
       "\n",
       "    .dataframe thead th {\n",
       "        text-align: right;\n",
       "    }\n",
       "</style>\n",
       "<table border=\"1\" class=\"dataframe\">\n",
       "  <thead>\n",
       "    <tr style=\"text-align: right;\">\n",
       "      <th>Gender</th>\n",
       "      <th>Female</th>\n",
       "      <th>Male</th>\n",
       "    </tr>\n",
       "    <tr>\n",
       "      <th>Exited</th>\n",
       "      <th></th>\n",
       "      <th></th>\n",
       "    </tr>\n",
       "  </thead>\n",
       "  <tbody>\n",
       "    <tr>\n",
       "      <th>0</th>\n",
       "      <td>7025</td>\n",
       "      <td>10377</td>\n",
       "    </tr>\n",
       "    <tr>\n",
       "      <th>1</th>\n",
       "      <td>2642</td>\n",
       "      <td>1973</td>\n",
       "    </tr>\n",
       "  </tbody>\n",
       "</table>\n",
       "</div>"
      ],
      "text/plain": [
       "Gender  Female   Male\n",
       "Exited               \n",
       "0         7025  10377\n",
       "1         2642   1973"
      ]
     },
     "execution_count": 4,
     "metadata": {},
     "output_type": "execute_result"
    }
   ],
   "source": [
    "contingency_table = pd.crosstab(df_train[\"Exited\"], df_train[\"Gender\"])\n",
    "contingency_table"
   ]
  },
  {
   "cell_type": "code",
   "execution_count": 5,
   "id": "79b7785e",
   "metadata": {},
   "outputs": [
    {
     "data": {
      "text/plain": [
       "Chi2ContingencyResult(statistic=np.float64(421.2766703991938), pvalue=np.float64(1.2869594072393909e-93), dof=1, expected_freq=array([[7640.69282827, 9761.30717173],\n",
       "       [2026.30717173, 2588.69282827]]))"
      ]
     },
     "execution_count": 5,
     "metadata": {},
     "output_type": "execute_result"
    }
   ],
   "source": [
    "chi2_contingency(contingency_table)"
   ]
  },
  {
   "cell_type": "code",
   "execution_count": 6,
   "id": "d1ad676b",
   "metadata": {},
   "outputs": [
    {
     "data": {
      "text/html": [
       "<div>\n",
       "<style scoped>\n",
       "    .dataframe tbody tr th:only-of-type {\n",
       "        vertical-align: middle;\n",
       "    }\n",
       "\n",
       "    .dataframe tbody tr th {\n",
       "        vertical-align: top;\n",
       "    }\n",
       "\n",
       "    .dataframe thead th {\n",
       "        text-align: right;\n",
       "    }\n",
       "</style>\n",
       "<table border=\"1\" class=\"dataframe\">\n",
       "  <thead>\n",
       "    <tr style=\"text-align: right;\">\n",
       "      <th></th>\n",
       "      <th>Female</th>\n",
       "      <th>Male</th>\n",
       "    </tr>\n",
       "  </thead>\n",
       "  <tbody>\n",
       "    <tr>\n",
       "      <th>0</th>\n",
       "      <td>7641.0</td>\n",
       "      <td>9761.0</td>\n",
       "    </tr>\n",
       "    <tr>\n",
       "      <th>1</th>\n",
       "      <td>2026.0</td>\n",
       "      <td>2589.0</td>\n",
       "    </tr>\n",
       "  </tbody>\n",
       "</table>\n",
       "</div>"
      ],
      "text/plain": [
       "   Female    Male\n",
       "0  7641.0  9761.0\n",
       "1  2026.0  2589.0"
      ]
     },
     "execution_count": 6,
     "metadata": {},
     "output_type": "execute_result"
    }
   ],
   "source": [
    "pd.DataFrame(\n",
    "    chi2_contingency(contingency_table).expected_freq,\n",
    "    columns=df_train[\"Gender\"].sort_values().unique(),\n",
    "    index=df_train[\"Exited\"].sort_values().unique(),\n",
    ").round()"
   ]
  },
  {
   "cell_type": "code",
   "execution_count": 7,
   "id": "374e06c1",
   "metadata": {},
   "outputs": [
    {
     "data": {
      "text/plain": [
       "<Axes: xlabel='Gender', ylabel='Exited'>"
      ]
     },
     "execution_count": 7,
     "metadata": {},
     "output_type": "execute_result"
    },
    {
     "data": {
      "image/png": "[encoded data removed]",
      "text/plain": [
       "<Figure size 640x480 with 2 Axes>"
      ]
     },
     "metadata": {},
     "output_type": "display_data"
    }
   ],
   "source": [
    "expected = chi2_contingency(contingency_table).expected_freq\n",
    "\n",
    "expected_df = pd.DataFrame(expected, \n",
    "                           index=contingency_table.index, \n",
    "                           columns=contingency_table.columns\n",
    "                           ).round()\n",
    "\n",
    "diff = expected_df - contingency_table\n",
    "\n",
    "\n",
    "sns.heatmap(diff, annot=True, cmap=\"bwr\")"
   ]
  },
  {
   "cell_type": "code",
   "execution_count": 8,
   "id": "19714b97",
   "metadata": {},
   "outputs": [
    {
     "name": "stdout",
     "output_type": "stream",
     "text": [
      "HO : 'Le nombre de clients qui résilient (Exited) et le sexe (Gender) sont 2 variables indépendantes l'une de l'autre'\n",
      "Nous avons suffisament d'évidence pour rejeter H0\n"
     ]
    }
   ],
   "source": [
    "print(\"HO : 'Le nombre de clients qui résilient (Exited) et le sexe (Gender) sont 2 variables indépendantes l'une de l'autre'\")\n",
    "\n",
    "alpha = 0.02\n",
    "p_value = chi2_contingency(contingency_table).pvalue\n",
    "\n",
    "if p_value < alpha:\n",
    "    print(\"Nous avons suffisament d'évidence pour rejeter H0\")\n",
    "else:\n",
    "    print(\"Nous n'avons pas suffisament d'évidence pour rejeter H0\")"
   ]
  },
  {
   "cell_type": "markdown",
   "id": "a25a819c",
   "metadata": {},
   "source": [
    "👉 Le test du χ² (p-value ≈ 0) rejette l’hypothèse d’indépendance entre le sexe et la résiliation.\n",
    "\n",
    "On observe une **sur-représentation des femmes** parmi les clients qui résilient, et une **sur-représentation des hommes** parmi ceux qui restent.\n",
    "\n",
    "Ainsi, **le genre a une influence significative sur le churn**.\n"
   ]
  },
  {
   "cell_type": "markdown",
   "id": "4a82e869",
   "metadata": {},
   "source": [
    "# 2. Les clients ayant 1 produit sont plus nombreuses à résilier que ceux en ayant 2"
   ]
  },
  {
   "cell_type": "markdown",
   "id": "34868942",
   "metadata": {},
   "source": [
    "Test chi2 contingency\n",
    "\n",
    "H0 : \"Le nombre de produit détenu par les clients (NumOfProducts) et le nombre de résiliation (Exited) <br>\n",
    "sont 2 variables indépendantes l'une de l'autre.\""
   ]
  },
  {
   "cell_type": "code",
   "execution_count": 9,
   "id": "49883367",
   "metadata": {},
   "outputs": [
    {
     "data": {
      "text/html": [
       "<div>\n",
       "<style scoped>\n",
       "    .dataframe tbody tr th:only-of-type {\n",
       "        vertical-align: middle;\n",
       "    }\n",
       "\n",
       "    .dataframe tbody tr th {\n",
       "        vertical-align: top;\n",
       "    }\n",
       "\n",
       "    .dataframe thead th {\n",
       "        text-align: right;\n",
       "    }\n",
       "</style>\n",
       "<table border=\"1\" class=\"dataframe\">\n",
       "  <thead>\n",
       "    <tr style=\"text-align: right;\">\n",
       "      <th>NumOfProducts</th>\n",
       "      <th>1</th>\n",
       "      <th>2</th>\n",
       "      <th>3</th>\n",
       "      <th>4</th>\n",
       "    </tr>\n",
       "    <tr>\n",
       "      <th>Exited</th>\n",
       "      <th></th>\n",
       "      <th></th>\n",
       "      <th></th>\n",
       "      <th></th>\n",
       "    </tr>\n",
       "  </thead>\n",
       "  <tbody>\n",
       "    <tr>\n",
       "      <th>0</th>\n",
       "      <td>6978</td>\n",
       "      <td>10374</td>\n",
       "      <td>39</td>\n",
       "      <td>11</td>\n",
       "    </tr>\n",
       "    <tr>\n",
       "      <th>1</th>\n",
       "      <td>3505</td>\n",
       "      <td>679</td>\n",
       "      <td>376</td>\n",
       "      <td>55</td>\n",
       "    </tr>\n",
       "  </tbody>\n",
       "</table>\n",
       "</div>"
      ],
      "text/plain": [
       "NumOfProducts     1      2    3   4\n",
       "Exited                             \n",
       "0              6978  10374   39  11\n",
       "1              3505    679  376  55"
      ]
     },
     "execution_count": 9,
     "metadata": {},
     "output_type": "execute_result"
    }
   ],
   "source": [
    "contingency_table = pd.crosstab(df_train[\"Exited\"], df_train[\"NumOfProducts\"])\n",
    "contingency_table"
   ]
  },
  {
   "cell_type": "code",
   "execution_count": 10,
   "id": "7b061778",
   "metadata": {},
   "outputs": [
    {
     "data": {
      "text/plain": [
       "Chi2ContingencyResult(statistic=np.float64(3819.283728664408), pvalue=np.float64(0.0), dof=3, expected_freq=array([[8285.65045192, 8736.17232139,  328.01153654,   52.16569015],\n",
       "       [2197.34954808, 2316.82767861,   86.98846346,   13.83430985]]))"
      ]
     },
     "execution_count": 10,
     "metadata": {},
     "output_type": "execute_result"
    }
   ],
   "source": [
    "chi2_contingency(contingency_table)"
   ]
  },
  {
   "cell_type": "code",
   "execution_count": 11,
   "id": "9400623b",
   "metadata": {},
   "outputs": [
    {
     "data": {
      "text/html": [
       "<div>\n",
       "<style scoped>\n",
       "    .dataframe tbody tr th:only-of-type {\n",
       "        vertical-align: middle;\n",
       "    }\n",
       "\n",
       "    .dataframe tbody tr th {\n",
       "        vertical-align: top;\n",
       "    }\n",
       "\n",
       "    .dataframe thead th {\n",
       "        text-align: right;\n",
       "    }\n",
       "</style>\n",
       "<table border=\"1\" class=\"dataframe\">\n",
       "  <thead>\n",
       "    <tr style=\"text-align: right;\">\n",
       "      <th>NumOfProducts</th>\n",
       "      <th>1</th>\n",
       "      <th>2</th>\n",
       "      <th>3</th>\n",
       "      <th>4</th>\n",
       "    </tr>\n",
       "    <tr>\n",
       "      <th>Exited</th>\n",
       "      <th></th>\n",
       "      <th></th>\n",
       "      <th></th>\n",
       "      <th></th>\n",
       "    </tr>\n",
       "  </thead>\n",
       "  <tbody>\n",
       "    <tr>\n",
       "      <th>0</th>\n",
       "      <td>8286.0</td>\n",
       "      <td>8736.0</td>\n",
       "      <td>328.0</td>\n",
       "      <td>52.0</td>\n",
       "    </tr>\n",
       "    <tr>\n",
       "      <th>1</th>\n",
       "      <td>2197.0</td>\n",
       "      <td>2317.0</td>\n",
       "      <td>87.0</td>\n",
       "      <td>14.0</td>\n",
       "    </tr>\n",
       "  </tbody>\n",
       "</table>\n",
       "</div>"
      ],
      "text/plain": [
       "NumOfProducts       1       2      3     4\n",
       "Exited                                    \n",
       "0              8286.0  8736.0  328.0  52.0\n",
       "1              2197.0  2317.0   87.0  14.0"
      ]
     },
     "execution_count": 11,
     "metadata": {},
     "output_type": "execute_result"
    }
   ],
   "source": [
    "expected = chi2_contingency(contingency_table).expected_freq\n",
    "\n",
    "pd.DataFrame(\n",
    "    expected,\n",
    "    columns=contingency_table.columns,\n",
    "    index=contingency_table.index,\n",
    "    ).round()"
   ]
  },
  {
   "cell_type": "code",
   "execution_count": 12,
   "id": "7b3b3151",
   "metadata": {},
   "outputs": [
    {
     "data": {
      "text/plain": [
       "<Axes: xlabel='NumOfProducts', ylabel='Exited'>"
      ]
     },
     "execution_count": 12,
     "metadata": {},
     "output_type": "execute_result"
    },
    {
     "data": {
      "image/png": "[encoded data removed]",
      "text/plain": [
       "<Figure size 640x480 with 2 Axes>"
      ]
     },
     "metadata": {},
     "output_type": "display_data"
    }
   ],
   "source": [
    "diff = expected - contingency_table\n",
    "\n",
    "sns.heatmap(diff, annot=True, cmap=\"bwr\")"
   ]
  },
  {
   "cell_type": "code",
   "execution_count": 13,
   "id": "0b569a0e",
   "metadata": {},
   "outputs": [
    {
     "name": "stdout",
     "output_type": "stream",
     "text": [
      "H0 : 'Le nombre de clients qui résilient (Exited) et le nombre de produits souscrits (NumOfProducts) sont 2 variables indépendantes l'une de l'autre'\n",
      "Nous avons suffisament d'évidence pour rejeter H0\n"
     ]
    }
   ],
   "source": [
    "print(\"H0 : 'Le nombre de clients qui résilient (Exited) et le nombre de produits souscrits (NumOfProducts) sont 2 variables indépendantes l'une de l'autre'\")\n",
    "\n",
    "alpha = 0.02\n",
    "p_value = chi2_contingency(contingency_table).pvalue\n",
    "\n",
    "if p_value < alpha:\n",
    "    print(\"Nous avons suffisament d'évidence pour rejeter H0\")\n",
    "else:\n",
    "    print(\"Nous n'avons pas suffisament d'évidence pour rejeter H0\")"
   ]
  },
  {
   "cell_type": "markdown",
   "id": "21cbed9f",
   "metadata": {},
   "source": [
    "# 3. Les clients allemands sont plus nombreux à résilier que les clients Français et Espagnol"
   ]
  },
  {
   "cell_type": "markdown",
   "id": "7ac569f0",
   "metadata": {},
   "source": [
    "Test chi2 contingency\n",
    "\n",
    "H0 : \"Le nombre de clients ayant résilié (Exited) et le pays d'origine (Geography)<br> \n",
    "sont 2 variables indépendantes l'une de l'autre.\" "
   ]
  },
  {
   "cell_type": "code",
   "execution_count": 14,
   "id": "551ffd3b",
   "metadata": {},
   "outputs": [
    {
     "data": {
      "text/html": [
       "<div>\n",
       "<style scoped>\n",
       "    .dataframe tbody tr th:only-of-type {\n",
       "        vertical-align: middle;\n",
       "    }\n",
       "\n",
       "    .dataframe tbody tr th {\n",
       "        vertical-align: top;\n",
       "    }\n",
       "\n",
       "    .dataframe thead th {\n",
       "        text-align: right;\n",
       "    }\n",
       "</style>\n",
       "<table border=\"1\" class=\"dataframe\">\n",
       "  <thead>\n",
       "    <tr style=\"text-align: right;\">\n",
       "      <th>Geography</th>\n",
       "      <th>France</th>\n",
       "      <th>Germany</th>\n",
       "      <th>Spain</th>\n",
       "    </tr>\n",
       "    <tr>\n",
       "      <th>Exited</th>\n",
       "      <th></th>\n",
       "      <th></th>\n",
       "      <th></th>\n",
       "    </tr>\n",
       "  </thead>\n",
       "  <tbody>\n",
       "    <tr>\n",
       "      <th>0</th>\n",
       "      <td>10300</td>\n",
       "      <td>3041</td>\n",
       "      <td>4061</td>\n",
       "    </tr>\n",
       "    <tr>\n",
       "      <th>1</th>\n",
       "      <td>2009</td>\n",
       "      <td>1756</td>\n",
       "      <td>850</td>\n",
       "    </tr>\n",
       "  </tbody>\n",
       "</table>\n",
       "</div>"
      ],
      "text/plain": [
       "Geography  France  Germany  Spain\n",
       "Exited                           \n",
       "0           10300     3041   4061\n",
       "1            2009     1756    850"
      ]
     },
     "execution_count": 14,
     "metadata": {},
     "output_type": "execute_result"
    }
   ],
   "source": [
    "contingency_table = pd.crosstab(df_train[\"Exited\"], df_train[\"Geography\"])\n",
    "contingency_table"
   ]
  },
  {
   "cell_type": "code",
   "execution_count": 15,
   "id": "03185e12",
   "metadata": {},
   "outputs": [
    {
     "data": {
      "text/plain": [
       "Chi2ContingencyResult(statistic=np.float64(908.210264551562), pvalue=np.float64(6.090414470991611e-198), dof=2, expected_freq=array([[9728.9012127, 3791.4972067, 3881.6015806],\n",
       "       [2580.0987873, 1005.5027933, 1029.3984194]]))"
      ]
     },
     "execution_count": 15,
     "metadata": {},
     "output_type": "execute_result"
    }
   ],
   "source": [
    "chi2_contingency(contingency_table)"
   ]
  },
  {
   "cell_type": "code",
   "execution_count": 16,
   "id": "c97229ce",
   "metadata": {},
   "outputs": [
    {
     "data": {
      "text/html": [
       "<div>\n",
       "<style scoped>\n",
       "    .dataframe tbody tr th:only-of-type {\n",
       "        vertical-align: middle;\n",
       "    }\n",
       "\n",
       "    .dataframe tbody tr th {\n",
       "        vertical-align: top;\n",
       "    }\n",
       "\n",
       "    .dataframe thead th {\n",
       "        text-align: right;\n",
       "    }\n",
       "</style>\n",
       "<table border=\"1\" class=\"dataframe\">\n",
       "  <thead>\n",
       "    <tr style=\"text-align: right;\">\n",
       "      <th>Geography</th>\n",
       "      <th>France</th>\n",
       "      <th>Germany</th>\n",
       "      <th>Spain</th>\n",
       "    </tr>\n",
       "    <tr>\n",
       "      <th>Exited</th>\n",
       "      <th></th>\n",
       "      <th></th>\n",
       "      <th></th>\n",
       "    </tr>\n",
       "  </thead>\n",
       "  <tbody>\n",
       "    <tr>\n",
       "      <th>0</th>\n",
       "      <td>9729.0</td>\n",
       "      <td>3791.0</td>\n",
       "      <td>3882.0</td>\n",
       "    </tr>\n",
       "    <tr>\n",
       "      <th>1</th>\n",
       "      <td>2580.0</td>\n",
       "      <td>1006.0</td>\n",
       "      <td>1029.0</td>\n",
       "    </tr>\n",
       "  </tbody>\n",
       "</table>\n",
       "</div>"
      ],
      "text/plain": [
       "Geography  France  Germany   Spain\n",
       "Exited                            \n",
       "0          9729.0   3791.0  3882.0\n",
       "1          2580.0   1006.0  1029.0"
      ]
     },
     "execution_count": 16,
     "metadata": {},
     "output_type": "execute_result"
    }
   ],
   "source": [
    "pd.DataFrame(\n",
    "    chi2_contingency(contingency_table).expected_freq,\n",
    "    columns=contingency_table.columns,\n",
    "    index=contingency_table.index,\n",
    ").round()"
   ]
  },
  {
   "cell_type": "code",
   "execution_count": 29,
   "id": "165f7144",
   "metadata": {},
   "outputs": [
    {
     "data": {
      "text/plain": [
       "<Axes: xlabel='IsActiveMember', ylabel='Exited'>"
      ]
     },
     "execution_count": 29,
     "metadata": {},
     "output_type": "execute_result"
    },
    {
     "data": {
      "image/png": "[encoded data removed]",
      "text/plain": [
       "<Figure size 640x480 with 2 Axes>"
      ]
     },
     "metadata": {},
     "output_type": "display_data"
    }
   ],
   "source": [
    "expected = chi2_contingency(contingency_table).expected_freq\n",
    "\n",
    "diff = pd.DataFrame(\n",
    "    chi2_contingency(contingency_table).expected_freq,\n",
    "    columns=contingency_table.columns,\n",
    "    index=contingency_table.index,\n",
    ").round() - contingency_table\n",
    "\n",
    "sns.heatmap(diff, annot=True, cmap=\"bwr\")"
   ]
  },
  {
   "cell_type": "code",
   "execution_count": 30,
   "id": "7a9c214d",
   "metadata": {},
   "outputs": [
    {
     "name": "stdout",
     "output_type": "stream",
     "text": [
      "H0 : 'Le nombre de clients qui résilient (Exited) et la géographie (Geography) sont 2 variables indépendantes l'une de l'autre'\n",
      "Nous avons suffisament d'évidence pour rejeter H0\n"
     ]
    }
   ],
   "source": [
    "print(\"H0 : 'Le nombre de clients qui résilient (Exited) et la géographie (Geography) sont 2 variables indépendantes l'une de l'autre'\")\n",
    "\n",
    "alpha = 0.02\n",
    "p_value = chi2_contingency(contingency_table).pvalue\n",
    "\n",
    "if p_value < alpha:\n",
    "    print(\"Nous avons suffisament d'évidence pour rejeter H0\")\n",
    "else:\n",
    "    print(\"Nous n'avons pas suffisament d'évidence pour rejeter H0\")"
   ]
  },
  {
   "cell_type": "markdown",
   "id": "af6a22a9",
   "metadata": {},
   "source": [
    "# 4. Les clients actifs sont plus nombreux à résilier que les clients inactif"
   ]
  },
  {
   "cell_type": "markdown",
   "id": "a9cb43ba",
   "metadata": {},
   "source": [
    "Test chi2 contingency\n",
    "\n",
    "H0 : \"Le nombre de clients actif (IsActiveMember) et le nombre de clients qui résilient (Exited) sont 2 variables<br> \n",
    "indépendantes l'une de l'autre\""
   ]
  },
  {
   "cell_type": "code",
   "execution_count": 19,
   "id": "7ae29612",
   "metadata": {},
   "outputs": [
    {
     "data": {
      "text/html": [
       "<div>\n",
       "<style scoped>\n",
       "    .dataframe tbody tr th:only-of-type {\n",
       "        vertical-align: middle;\n",
       "    }\n",
       "\n",
       "    .dataframe tbody tr th {\n",
       "        vertical-align: top;\n",
       "    }\n",
       "\n",
       "    .dataframe thead th {\n",
       "        text-align: right;\n",
       "    }\n",
       "</style>\n",
       "<table border=\"1\" class=\"dataframe\">\n",
       "  <thead>\n",
       "    <tr style=\"text-align: right;\">\n",
       "      <th>IsActiveMember</th>\n",
       "      <th>0.0</th>\n",
       "      <th>1.0</th>\n",
       "    </tr>\n",
       "    <tr>\n",
       "      <th>Exited</th>\n",
       "      <th></th>\n",
       "      <th></th>\n",
       "    </tr>\n",
       "  </thead>\n",
       "  <tbody>\n",
       "    <tr>\n",
       "      <th>0</th>\n",
       "      <td>7875</td>\n",
       "      <td>9527</td>\n",
       "    </tr>\n",
       "    <tr>\n",
       "      <th>1</th>\n",
       "      <td>3190</td>\n",
       "      <td>1425</td>\n",
       "    </tr>\n",
       "  </tbody>\n",
       "</table>\n",
       "</div>"
      ],
      "text/plain": [
       "IsActiveMember   0.0   1.0\n",
       "Exited                    \n",
       "0               7875  9527\n",
       "1               3190  1425"
      ]
     },
     "execution_count": 19,
     "metadata": {},
     "output_type": "execute_result"
    }
   ],
   "source": [
    "contingency_table = pd.crosstab(df_train[\"Exited\"], df_train[\"IsActiveMember\"])\n",
    "contingency_table"
   ]
  },
  {
   "cell_type": "code",
   "execution_count": 20,
   "id": "044da2ee",
   "metadata": {},
   "outputs": [
    {
     "data": {
      "text/plain": [
       "Chi2ContingencyResult(statistic=np.float64(830.3361250534012), pvalue=np.float64(1.369597668812238e-182), dof=1, expected_freq=array([[8745.65699232, 8656.34300768],\n",
       "       [2319.34300768, 2295.65699232]]))"
      ]
     },
     "execution_count": 20,
     "metadata": {},
     "output_type": "execute_result"
    }
   ],
   "source": [
    "chi2_contingency(contingency_table)"
   ]
  },
  {
   "cell_type": "code",
   "execution_count": 21,
   "id": "54ac83a6",
   "metadata": {},
   "outputs": [
    {
     "data": {
      "text/html": [
       "<div>\n",
       "<style scoped>\n",
       "    .dataframe tbody tr th:only-of-type {\n",
       "        vertical-align: middle;\n",
       "    }\n",
       "\n",
       "    .dataframe tbody tr th {\n",
       "        vertical-align: top;\n",
       "    }\n",
       "\n",
       "    .dataframe thead th {\n",
       "        text-align: right;\n",
       "    }\n",
       "</style>\n",
       "<table border=\"1\" class=\"dataframe\">\n",
       "  <thead>\n",
       "    <tr style=\"text-align: right;\">\n",
       "      <th>IsActiveMember</th>\n",
       "      <th>0.0</th>\n",
       "      <th>1.0</th>\n",
       "    </tr>\n",
       "    <tr>\n",
       "      <th>Exited</th>\n",
       "      <th></th>\n",
       "      <th></th>\n",
       "    </tr>\n",
       "  </thead>\n",
       "  <tbody>\n",
       "    <tr>\n",
       "      <th>0</th>\n",
       "      <td>8746.0</td>\n",
       "      <td>8656.0</td>\n",
       "    </tr>\n",
       "    <tr>\n",
       "      <th>1</th>\n",
       "      <td>2319.0</td>\n",
       "      <td>2296.0</td>\n",
       "    </tr>\n",
       "  </tbody>\n",
       "</table>\n",
       "</div>"
      ],
      "text/plain": [
       "IsActiveMember     0.0     1.0\n",
       "Exited                        \n",
       "0               8746.0  8656.0\n",
       "1               2319.0  2296.0"
      ]
     },
     "execution_count": 21,
     "metadata": {},
     "output_type": "execute_result"
    }
   ],
   "source": [
    "expected = chi2_contingency(contingency_table).expected_freq\n",
    "\n",
    "pd.DataFrame(\n",
    "    expected,\n",
    "    columns=contingency_table.columns,\n",
    "    index=contingency_table.index,\n",
    ").round()"
   ]
  },
  {
   "cell_type": "code",
   "execution_count": 22,
   "id": "681ef35f",
   "metadata": {},
   "outputs": [
    {
     "name": "stdout",
     "output_type": "stream",
     "text": [
      "H0 : 'Le nombre de clients qui résilient (Exited) et le statut d'adhésion (IsActiveMember) sont 2 variables indépendantes l'une de l'autre'\n",
      "Nous avons suffisament d'évidence pour rejeter H0\n"
     ]
    }
   ],
   "source": [
    "print(\"H0 : 'Le nombre de clients qui résilient (Exited) et le statut d'adhésion (IsActiveMember) sont 2 variables indépendantes l'une de l'autre'\")\n",
    "\n",
    "alpha = 0.02\n",
    "p_value = chi2_contingency(contingency_table).pvalue\n",
    "\n",
    "if p_value < alpha:\n",
    "    print(\"Nous avons suffisament d'évidence pour rejeter H0\")\n",
    "else:\n",
    "    print(\"Nous n'avons pas suffisament d'évidence pour rejeter H0\")"
   ]
  },
  {
   "cell_type": "markdown",
   "id": "50b41ec4",
   "metadata": {},
   "source": [
    "# 5. Les clients ayant un solde élevée sont plus nombreux à résilier (Attention avec médiane à 0 FR et ES)"
   ]
  },
  {
   "cell_type": "markdown",
   "id": "6d1f4dec",
   "metadata": {},
   "source": [
    "Test de student\n",
    "\n",
    "H0 : \"Les clients qui ont résilié ont en moyenne un solde égal aux autres.\" "
   ]
  },
  {
   "cell_type": "code",
   "execution_count": 23,
   "id": "e68d69c9",
   "metadata": {},
   "outputs": [
    {
     "data": {
      "text/html": [
       "<div>\n",
       "<style scoped>\n",
       "    .dataframe tbody tr th:only-of-type {\n",
       "        vertical-align: middle;\n",
       "    }\n",
       "\n",
       "    .dataframe tbody tr th {\n",
       "        vertical-align: top;\n",
       "    }\n",
       "\n",
       "    .dataframe thead th {\n",
       "        text-align: right;\n",
       "    }\n",
       "</style>\n",
       "<table border=\"1\" class=\"dataframe\">\n",
       "  <thead>\n",
       "    <tr style=\"text-align: right;\">\n",
       "      <th></th>\n",
       "      <th>count</th>\n",
       "      <th>mean</th>\n",
       "      <th>std</th>\n",
       "      <th>min</th>\n",
       "      <th>25%</th>\n",
       "      <th>50%</th>\n",
       "      <th>75%</th>\n",
       "      <th>max</th>\n",
       "    </tr>\n",
       "    <tr>\n",
       "      <th>Exited</th>\n",
       "      <th></th>\n",
       "      <th></th>\n",
       "      <th></th>\n",
       "      <th></th>\n",
       "      <th></th>\n",
       "      <th></th>\n",
       "      <th></th>\n",
       "      <th></th>\n",
       "    </tr>\n",
       "  </thead>\n",
       "  <tbody>\n",
       "    <tr>\n",
       "      <th>0</th>\n",
       "      <td>17402.0</td>\n",
       "      <td>55645.143723</td>\n",
       "      <td>62880.812101</td>\n",
       "      <td>0.0</td>\n",
       "      <td>0.0</td>\n",
       "      <td>0.00</td>\n",
       "      <td>120107.5275</td>\n",
       "      <td>250898.09</td>\n",
       "    </tr>\n",
       "    <tr>\n",
       "      <th>1</th>\n",
       "      <td>4615.0</td>\n",
       "      <td>73019.218566</td>\n",
       "      <td>62308.954294</td>\n",
       "      <td>0.0</td>\n",
       "      <td>0.0</td>\n",
       "      <td>101979.16</td>\n",
       "      <td>125823.7750</td>\n",
       "      <td>209767.31</td>\n",
       "    </tr>\n",
       "  </tbody>\n",
       "</table>\n",
       "</div>"
      ],
      "text/plain": [
       "          count          mean           std  min  25%        50%          75%  \\\n",
       "Exited                                                                          \n",
       "0       17402.0  55645.143723  62880.812101  0.0  0.0       0.00  120107.5275   \n",
       "1        4615.0  73019.218566  62308.954294  0.0  0.0  101979.16  125823.7750   \n",
       "\n",
       "              max  \n",
       "Exited             \n",
       "0       250898.09  \n",
       "1       209767.31  "
      ]
     },
     "execution_count": 23,
     "metadata": {},
     "output_type": "execute_result"
    }
   ],
   "source": [
    "df_train.groupby(\"Exited\")[\"Balance\"].describe()"
   ]
  },
  {
   "cell_type": "markdown",
   "id": "3e7b3722",
   "metadata": {},
   "source": [
    "- Les variances sont sensiblement identiques\n",
    "- Les données sont indépendantes\n",
    "- Il y a plus de 30 lignes de données pour chaque groupe (TCL)\n",
    "\n",
    "-\"Les données sont indépendantes car chaque observation (client) est distincte et ne dépend pas des autres. Il n'y a pas de duplication ou de lien entre les clients dans le dataset.\""
   ]
  },
  {
   "cell_type": "code",
   "execution_count": 24,
   "id": "db63a2e8",
   "metadata": {},
   "outputs": [
    {
     "data": {
      "text/plain": [
       "TtestResult(statistic=np.float64(16.719199871824134), pvalue=np.float64(2.3042195082418613e-62), df=np.float64(22015.0))"
      ]
     },
     "execution_count": 24,
     "metadata": {},
     "output_type": "execute_result"
    }
   ],
   "source": [
    "df_exited = df_train.query(\"Exited == 1\")\n",
    "df_NoExited = df_train.query(\"Exited == 0\")\n",
    "\n",
    "ttest_ind(df_exited[\"Balance\"], df_NoExited[\"Balance\"])"
   ]
  },
  {
   "cell_type": "code",
   "execution_count": 25,
   "id": "afefcf31",
   "metadata": {},
   "outputs": [
    {
     "name": "stdout",
     "output_type": "stream",
     "text": [
      "H0 : 'Les clients qui ont résilié ont un solde moyen identique à celui des clients qui n’ont pas résilié.'\n",
      "Nous avons suffisament d'évidence pour rejeter H0\n"
     ]
    }
   ],
   "source": [
    "print(\"H0 : 'Les clients qui ont résilié ont un solde moyen identique à celui des clients qui n’ont pas résilié.'\")\n",
    "\n",
    "alpha = 0.02\n",
    "p_value = ttest_ind(df_exited[\"Balance\"], df_NoExited[\"Balance\"]).pvalue\n",
    "\n",
    "if p_value < alpha:\n",
    "    print(\"Nous avons suffisament d'évidence pour rejeter H0\")\n",
    "else:\n",
    "    print(\"Nous n'avons pas suffisament d'évidence pour rejeter H0\")"
   ]
  },
  {
   "cell_type": "markdown",
   "id": "875f7e66",
   "metadata": {},
   "source": [
    "# 6. Les clients de 44 ans et plus sont plus nombreux à résilier"
   ]
  },
  {
   "cell_type": "markdown",
   "id": "ca519d82",
   "metadata": {},
   "source": [
    "Test de student\n",
    "\n",
    "H0 : \"Les clients qui résilient ont le même âge moyen que ceux qui ne résilient pas.\""
   ]
  },
  {
   "cell_type": "code",
   "execution_count": 26,
   "id": "0ce8d81f",
   "metadata": {},
   "outputs": [
    {
     "data": {
      "text/html": [
       "<div>\n",
       "<style scoped>\n",
       "    .dataframe tbody tr th:only-of-type {\n",
       "        vertical-align: middle;\n",
       "    }\n",
       "\n",
       "    .dataframe tbody tr th {\n",
       "        vertical-align: top;\n",
       "    }\n",
       "\n",
       "    .dataframe thead th {\n",
       "        text-align: right;\n",
       "    }\n",
       "</style>\n",
       "<table border=\"1\" class=\"dataframe\">\n",
       "  <thead>\n",
       "    <tr style=\"text-align: right;\">\n",
       "      <th></th>\n",
       "      <th>count</th>\n",
       "      <th>mean</th>\n",
       "      <th>std</th>\n",
       "      <th>min</th>\n",
       "      <th>25%</th>\n",
       "      <th>50%</th>\n",
       "      <th>75%</th>\n",
       "      <th>max</th>\n",
       "    </tr>\n",
       "    <tr>\n",
       "      <th>Exited</th>\n",
       "      <th></th>\n",
       "      <th></th>\n",
       "      <th></th>\n",
       "      <th></th>\n",
       "      <th></th>\n",
       "      <th></th>\n",
       "      <th></th>\n",
       "      <th></th>\n",
       "    </tr>\n",
       "  </thead>\n",
       "  <tbody>\n",
       "    <tr>\n",
       "      <th>0</th>\n",
       "      <td>17402.0</td>\n",
       "      <td>36.527034</td>\n",
       "      <td>8.066535</td>\n",
       "      <td>18.0</td>\n",
       "      <td>31.0</td>\n",
       "      <td>36.0</td>\n",
       "      <td>40.0</td>\n",
       "      <td>92.0</td>\n",
       "    </tr>\n",
       "    <tr>\n",
       "      <th>1</th>\n",
       "      <td>4615.0</td>\n",
       "      <td>43.989166</td>\n",
       "      <td>8.939078</td>\n",
       "      <td>18.0</td>\n",
       "      <td>38.0</td>\n",
       "      <td>44.0</td>\n",
       "      <td>50.0</td>\n",
       "      <td>74.0</td>\n",
       "    </tr>\n",
       "  </tbody>\n",
       "</table>\n",
       "</div>"
      ],
      "text/plain": [
       "          count       mean       std   min   25%   50%   75%   max\n",
       "Exited                                                            \n",
       "0       17402.0  36.527034  8.066535  18.0  31.0  36.0  40.0  92.0\n",
       "1        4615.0  43.989166  8.939078  18.0  38.0  44.0  50.0  74.0"
      ]
     },
     "execution_count": 26,
     "metadata": {},
     "output_type": "execute_result"
    }
   ],
   "source": [
    "df_train.groupby(\"Exited\")[\"Age\"].describe()"
   ]
  },
  {
   "cell_type": "code",
   "execution_count": 27,
   "id": "9ddf5757",
   "metadata": {},
   "outputs": [
    {
     "data": {
      "text/plain": [
       "TtestResult(statistic=np.float64(54.58138057115054), pvalue=np.float64(0.0), df=np.float64(22015.0))"
      ]
     },
     "execution_count": 27,
     "metadata": {},
     "output_type": "execute_result"
    }
   ],
   "source": [
    "df_exited = df_train.query(\"Exited == 1\")\n",
    "df_NoExited = df_train.query(\"Exited == 0\")\n",
    "\n",
    "ttest_ind(df_exited[\"Age\"], df_NoExited[\"Age\"])"
   ]
  },
  {
   "cell_type": "code",
   "execution_count": 28,
   "id": "be7411a9",
   "metadata": {},
   "outputs": [
    {
     "name": "stdout",
     "output_type": "stream",
     "text": [
      "H0 : 'Les clients qui résilient ont le même âge moyen que ceux qui ne résilient pas.'\n",
      "Nous avons suffisament d'évidence pour rejeter H0\n"
     ]
    }
   ],
   "source": [
    "print(\"H0 : 'Les clients qui résilient ont le même âge moyen que ceux qui ne résilient pas.'\")\n",
    "\n",
    "alpha = 0.02\n",
    "p_value = ttest_ind(df_exited[\"Age\"], df_NoExited[\"Age\"]).pvalue\n",
    "\n",
    "if p_value < alpha:\n",
    "    print(\"Nous avons suffisament d'évidence pour rejeter H0\")\n",
    "else:\n",
    "    print(\"Nous n'avons pas suffisament d'évidence pour rejeter H0\")"
   ]
  }
 ],
 "metadata": {
  "kernelspec": {
   "display_name": "Poetry (mlpro-bank-churn)",
   "language": "python",
   "name": "mlpro-bank-churn"
  },
  "language_info": {
   "codemirror_mode": {
    "name": "ipython",
    "version": 3
   },
   "file_extension": ".py",
   "mimetype": "text/x-python",
   "name": "python",
   "nbconvert_exporter": "python",
   "pygments_lexer": "ipython3",
   "version": "3.12.3"
  }
 },
 "nbformat": 4,
 "nbformat_minor": 5
}
