{
 "cells": [
  {
   "cell_type": "markdown",
   "id": "e1bf1a98",
   "metadata": {},
   "source": [
    "Hypothèses testées et résultats :\n",
    "\n",
    "1. Les femmes sont plus nombreuses à résilier que les hommes<br>\n",
    "✅ Test du Khi² → p-value ≈ 0 → Nous avons suffisamment d’évidence pour rejeter H₀<br>\n",
    "📌 Le sexe est un facteur significativement associé à la résiliation.\n",
    "\n",
    "2. Les clients ayant 1 seul produit résilient plus que ceux en ayant 2<br>\n",
    "✅ Test du Khi² → p-value ≈ 0 → H₀ rejetée<br>\n",
    "📌 Posséder peu de produits est corrélé à un taux de churn plus élevé.\n",
    "\n",
    "3. Les clients allemands résilient plus que les Français et Espagnols<br>\n",
    "✅ Test du Khi² sur la variable Geography → p-value ≈ 0 → H₀ rejetée<br>\n",
    "📌 Le pays d’origine influence significativement le comportement de résiliation.\n",
    "\n",
    "4. Les clients actifs résilient plus que les clients inactifs<br>\n",
    "✅ Test du Khi² → p-value ≈ 0 → H₀ rejetée<br>\n",
    "📌 À l’inverse de ce qu’on pourrait penser, l'activité est liée à un taux de churn plus élevé dans cet échantillon.\n",
    "\n",
    "5. Les clients avec un solde élevé résilient plus souvent<br>\n",
    "✅ Test de student à 2 échantillons indépendants → p-value ≈ 0 → H₀ rejetée<br>\n",
    "📌 Un solde plus élevé est associé à un risque de résiliation accru.\n",
    "\n",
    "6. Les clients âgés de 44 ans et plus résilient plus souvent<br>\n",
    "✅ Test de student à 2 échantillons indépendants → p-value ≈ 0 → H₀ rejetée<br>\n",
    "📌 L’âge est un facteur significativement lié à la résiliation."
   ]
  },
  {
   "cell_type": "code",
   "execution_count": 23,
   "id": "5a8c97c2",
   "metadata": {},
   "outputs": [],
   "source": [
    "### Import des packages\n",
    "import numpy as np\n",
    "import pandas as pd\n",
    "import seaborn as sns\n",
    "import matplotlib.pyplot as plt\n",
    "from scipy.stats import chi2_contingency, ttest_ind"
   ]
  },
  {
   "cell_type": "code",
   "execution_count": 2,
   "id": "466dbb06",
   "metadata": {},
   "outputs": [
    {
     "data": {
      "text/html": [
       "<div>\n",
       "<style scoped>\n",
       "    .dataframe tbody tr th:only-of-type {\n",
       "        vertical-align: middle;\n",
       "    }\n",
       "\n",
       "    .dataframe tbody tr th {\n",
       "        vertical-align: top;\n",
       "    }\n",
       "\n",
       "    .dataframe thead th {\n",
       "        text-align: right;\n",
       "    }\n",
       "</style>\n",
       "<table border=\"1\" class=\"dataframe\">\n",
       "  <thead>\n",
       "    <tr style=\"text-align: right;\">\n",
       "      <th></th>\n",
       "      <th>ID</th>\n",
       "      <th>CustomerId</th>\n",
       "      <th>Surname</th>\n",
       "      <th>CreditScore</th>\n",
       "      <th>Geography</th>\n",
       "      <th>Gender</th>\n",
       "      <th>Age</th>\n",
       "      <th>Tenure</th>\n",
       "      <th>Balance</th>\n",
       "      <th>NumOfProducts</th>\n",
       "      <th>HasCrCard</th>\n",
       "      <th>IsActiveMember</th>\n",
       "      <th>EstimatedSalary</th>\n",
       "      <th>Exited</th>\n",
       "    </tr>\n",
       "  </thead>\n",
       "  <tbody>\n",
       "    <tr>\n",
       "      <th>0</th>\n",
       "      <td>37765</td>\n",
       "      <td>15794860</td>\n",
       "      <td>Ch'eng</td>\n",
       "      <td>627</td>\n",
       "      <td>France</td>\n",
       "      <td>Male</td>\n",
       "      <td>28.0</td>\n",
       "      <td>7</td>\n",
       "      <td>131694.04</td>\n",
       "      <td>1</td>\n",
       "      <td>1.0</td>\n",
       "      <td>1.0</td>\n",
       "      <td>161205.61</td>\n",
       "      <td>0</td>\n",
       "    </tr>\n",
       "    <tr>\n",
       "      <th>1</th>\n",
       "      <td>130453</td>\n",
       "      <td>15728005</td>\n",
       "      <td>Hargreaves</td>\n",
       "      <td>597</td>\n",
       "      <td>France</td>\n",
       "      <td>Male</td>\n",
       "      <td>34.0</td>\n",
       "      <td>2</td>\n",
       "      <td>0.00</td>\n",
       "      <td>2</td>\n",
       "      <td>0.0</td>\n",
       "      <td>1.0</td>\n",
       "      <td>181419.29</td>\n",
       "      <td>0</td>\n",
       "    </tr>\n",
       "    <tr>\n",
       "      <th>2</th>\n",
       "      <td>77297</td>\n",
       "      <td>15686810</td>\n",
       "      <td>Ts'ui</td>\n",
       "      <td>724</td>\n",
       "      <td>France</td>\n",
       "      <td>Male</td>\n",
       "      <td>39.0</td>\n",
       "      <td>7</td>\n",
       "      <td>0.00</td>\n",
       "      <td>2</td>\n",
       "      <td>1.0</td>\n",
       "      <td>1.0</td>\n",
       "      <td>100862.54</td>\n",
       "      <td>0</td>\n",
       "    </tr>\n",
       "    <tr>\n",
       "      <th>3</th>\n",
       "      <td>40858</td>\n",
       "      <td>15760244</td>\n",
       "      <td>Trevisano</td>\n",
       "      <td>663</td>\n",
       "      <td>Germany</td>\n",
       "      <td>Female</td>\n",
       "      <td>56.0</td>\n",
       "      <td>5</td>\n",
       "      <td>118577.24</td>\n",
       "      <td>3</td>\n",
       "      <td>1.0</td>\n",
       "      <td>0.0</td>\n",
       "      <td>61164.45</td>\n",
       "      <td>1</td>\n",
       "    </tr>\n",
       "    <tr>\n",
       "      <th>4</th>\n",
       "      <td>19804</td>\n",
       "      <td>15810563</td>\n",
       "      <td>French</td>\n",
       "      <td>627</td>\n",
       "      <td>France</td>\n",
       "      <td>Female</td>\n",
       "      <td>33.0</td>\n",
       "      <td>5</td>\n",
       "      <td>0.00</td>\n",
       "      <td>2</td>\n",
       "      <td>1.0</td>\n",
       "      <td>1.0</td>\n",
       "      <td>103737.82</td>\n",
       "      <td>0</td>\n",
       "    </tr>\n",
       "    <tr>\n",
       "      <th>...</th>\n",
       "      <td>...</td>\n",
       "      <td>...</td>\n",
       "      <td>...</td>\n",
       "      <td>...</td>\n",
       "      <td>...</td>\n",
       "      <td>...</td>\n",
       "      <td>...</td>\n",
       "      <td>...</td>\n",
       "      <td>...</td>\n",
       "      <td>...</td>\n",
       "      <td>...</td>\n",
       "      <td>...</td>\n",
       "      <td>...</td>\n",
       "      <td>...</td>\n",
       "    </tr>\n",
       "    <tr>\n",
       "      <th>143574</th>\n",
       "      <td>97639</td>\n",
       "      <td>15759915</td>\n",
       "      <td>Onwumelu</td>\n",
       "      <td>559</td>\n",
       "      <td>Germany</td>\n",
       "      <td>Male</td>\n",
       "      <td>45.0</td>\n",
       "      <td>3</td>\n",
       "      <td>111634.29</td>\n",
       "      <td>1</td>\n",
       "      <td>1.0</td>\n",
       "      <td>1.0</td>\n",
       "      <td>103349.74</td>\n",
       "      <td>0</td>\n",
       "    </tr>\n",
       "    <tr>\n",
       "      <th>143575</th>\n",
       "      <td>95939</td>\n",
       "      <td>15769974</td>\n",
       "      <td>Shih</td>\n",
       "      <td>597</td>\n",
       "      <td>Germany</td>\n",
       "      <td>Male</td>\n",
       "      <td>41.0</td>\n",
       "      <td>10</td>\n",
       "      <td>119182.73</td>\n",
       "      <td>1</td>\n",
       "      <td>0.0</td>\n",
       "      <td>0.0</td>\n",
       "      <td>121299.14</td>\n",
       "      <td>0</td>\n",
       "    </tr>\n",
       "    <tr>\n",
       "      <th>143576</th>\n",
       "      <td>152315</td>\n",
       "      <td>15592028</td>\n",
       "      <td>Hsiao</td>\n",
       "      <td>576</td>\n",
       "      <td>Spain</td>\n",
       "      <td>Male</td>\n",
       "      <td>31.0</td>\n",
       "      <td>6</td>\n",
       "      <td>127299.56</td>\n",
       "      <td>1</td>\n",
       "      <td>1.0</td>\n",
       "      <td>1.0</td>\n",
       "      <td>57569.89</td>\n",
       "      <td>0</td>\n",
       "    </tr>\n",
       "    <tr>\n",
       "      <th>143577</th>\n",
       "      <td>117952</td>\n",
       "      <td>15804009</td>\n",
       "      <td>Ch'ang</td>\n",
       "      <td>751</td>\n",
       "      <td>France</td>\n",
       "      <td>Female</td>\n",
       "      <td>27.0</td>\n",
       "      <td>4</td>\n",
       "      <td>90721.11</td>\n",
       "      <td>1</td>\n",
       "      <td>0.0</td>\n",
       "      <td>0.0</td>\n",
       "      <td>84496.78</td>\n",
       "      <td>0</td>\n",
       "    </tr>\n",
       "    <tr>\n",
       "      <th>143578</th>\n",
       "      <td>43567</td>\n",
       "      <td>15771409</td>\n",
       "      <td>Chukwukadibia</td>\n",
       "      <td>718</td>\n",
       "      <td>Germany</td>\n",
       "      <td>Female</td>\n",
       "      <td>40.0</td>\n",
       "      <td>1</td>\n",
       "      <td>131753.99</td>\n",
       "      <td>1</td>\n",
       "      <td>1.0</td>\n",
       "      <td>0.0</td>\n",
       "      <td>140937.98</td>\n",
       "      <td>1</td>\n",
       "    </tr>\n",
       "  </tbody>\n",
       "</table>\n",
       "<p>143579 rows × 14 columns</p>\n",
       "</div>"
      ],
      "text/plain": [
       "            ID  CustomerId        Surname  CreditScore Geography  Gender  \\\n",
       "0        37765    15794860         Ch'eng          627    France    Male   \n",
       "1       130453    15728005     Hargreaves          597    France    Male   \n",
       "2        77297    15686810          Ts'ui          724    France    Male   \n",
       "3        40858    15760244      Trevisano          663   Germany  Female   \n",
       "4        19804    15810563         French          627    France  Female   \n",
       "...        ...         ...            ...          ...       ...     ...   \n",
       "143574   97639    15759915       Onwumelu          559   Germany    Male   \n",
       "143575   95939    15769974           Shih          597   Germany    Male   \n",
       "143576  152315    15592028          Hsiao          576     Spain    Male   \n",
       "143577  117952    15804009         Ch'ang          751    France  Female   \n",
       "143578   43567    15771409  Chukwukadibia          718   Germany  Female   \n",
       "\n",
       "         Age  Tenure    Balance  NumOfProducts  HasCrCard  IsActiveMember  \\\n",
       "0       28.0       7  131694.04              1        1.0             1.0   \n",
       "1       34.0       2       0.00              2        0.0             1.0   \n",
       "2       39.0       7       0.00              2        1.0             1.0   \n",
       "3       56.0       5  118577.24              3        1.0             0.0   \n",
       "4       33.0       5       0.00              2        1.0             1.0   \n",
       "...      ...     ...        ...            ...        ...             ...   \n",
       "143574  45.0       3  111634.29              1        1.0             1.0   \n",
       "143575  41.0      10  119182.73              1        0.0             0.0   \n",
       "143576  31.0       6  127299.56              1        1.0             1.0   \n",
       "143577  27.0       4   90721.11              1        0.0             0.0   \n",
       "143578  40.0       1  131753.99              1        1.0             0.0   \n",
       "\n",
       "        EstimatedSalary  Exited  \n",
       "0             161205.61       0  \n",
       "1             181419.29       0  \n",
       "2             100862.54       0  \n",
       "3              61164.45       1  \n",
       "4             103737.82       0  \n",
       "...                 ...     ...  \n",
       "143574        103349.74       0  \n",
       "143575        121299.14       0  \n",
       "143576         57569.89       0  \n",
       "143577         84496.78       0  \n",
       "143578        140937.98       1  \n",
       "\n",
       "[143579 rows x 14 columns]"
      ]
     },
     "execution_count": 2,
     "metadata": {},
     "output_type": "execute_result"
    }
   ],
   "source": [
    "df_train = pd.read_csv(\"train_data.csv\")\n",
    "df_train"
   ]
  },
  {
   "cell_type": "markdown",
   "id": "6eae1d23",
   "metadata": {},
   "source": [
    "# 1. Les femmes sont plus nombreuses à résilier que les hommes"
   ]
  },
  {
   "cell_type": "markdown",
   "id": "5c2f36fb",
   "metadata": {},
   "source": [
    "Test chi2 contingency\n",
    "\n",
    "HO : \"Le nombre de clients qui résilient (Exited) et le sexe (Gender) sont 2 variables indépendantes l'une de l'autre\""
   ]
  },
  {
   "cell_type": "code",
   "execution_count": 3,
   "id": "0a5f6ba2",
   "metadata": {},
   "outputs": [
    {
     "data": {
      "text/html": [
       "<div>\n",
       "<style scoped>\n",
       "    .dataframe tbody tr th:only-of-type {\n",
       "        vertical-align: middle;\n",
       "    }\n",
       "\n",
       "    .dataframe tbody tr th {\n",
       "        vertical-align: top;\n",
       "    }\n",
       "\n",
       "    .dataframe thead th {\n",
       "        text-align: right;\n",
       "    }\n",
       "</style>\n",
       "<table border=\"1\" class=\"dataframe\">\n",
       "  <thead>\n",
       "    <tr style=\"text-align: right;\">\n",
       "      <th>Gender</th>\n",
       "      <th>Female</th>\n",
       "      <th>Male</th>\n",
       "    </tr>\n",
       "    <tr>\n",
       "      <th>Exited</th>\n",
       "      <th></th>\n",
       "      <th></th>\n",
       "    </tr>\n",
       "  </thead>\n",
       "  <tbody>\n",
       "    <tr>\n",
       "      <th>0</th>\n",
       "      <td>45038</td>\n",
       "      <td>68091</td>\n",
       "    </tr>\n",
       "    <tr>\n",
       "      <th>1</th>\n",
       "      <td>17575</td>\n",
       "      <td>12875</td>\n",
       "    </tr>\n",
       "  </tbody>\n",
       "</table>\n",
       "</div>"
      ],
      "text/plain": [
       "Gender  Female   Male\n",
       "Exited               \n",
       "0        45038  68091\n",
       "1        17575  12875"
      ]
     },
     "execution_count": 3,
     "metadata": {},
     "output_type": "execute_result"
    }
   ],
   "source": [
    "contingency_table = pd.crosstab(df_train[\"Exited\"], df_train[\"Gender\"])\n",
    "contingency_table"
   ]
  },
  {
   "cell_type": "code",
   "execution_count": 4,
   "id": "79b7785e",
   "metadata": {},
   "outputs": [
    {
     "data": {
      "text/plain": [
       "Chi2ContingencyResult(statistic=np.float64(3127.515772767467), pvalue=np.float64(0.0), dof=1, expected_freq=array([[49334.13714401, 63794.86285599],\n",
       "       [13278.86285599, 17171.13714401]]))"
      ]
     },
     "execution_count": 4,
     "metadata": {},
     "output_type": "execute_result"
    }
   ],
   "source": [
    "chi2_contingency(contingency_table)"
   ]
  },
  {
   "cell_type": "code",
   "execution_count": 5,
   "id": "d1ad676b",
   "metadata": {},
   "outputs": [
    {
     "data": {
      "text/html": [
       "<div>\n",
       "<style scoped>\n",
       "    .dataframe tbody tr th:only-of-type {\n",
       "        vertical-align: middle;\n",
       "    }\n",
       "\n",
       "    .dataframe tbody tr th {\n",
       "        vertical-align: top;\n",
       "    }\n",
       "\n",
       "    .dataframe thead th {\n",
       "        text-align: right;\n",
       "    }\n",
       "</style>\n",
       "<table border=\"1\" class=\"dataframe\">\n",
       "  <thead>\n",
       "    <tr style=\"text-align: right;\">\n",
       "      <th></th>\n",
       "      <th>Female</th>\n",
       "      <th>Male</th>\n",
       "    </tr>\n",
       "  </thead>\n",
       "  <tbody>\n",
       "    <tr>\n",
       "      <th>0</th>\n",
       "      <td>49334.0</td>\n",
       "      <td>63795.0</td>\n",
       "    </tr>\n",
       "    <tr>\n",
       "      <th>1</th>\n",
       "      <td>13279.0</td>\n",
       "      <td>17171.0</td>\n",
       "    </tr>\n",
       "  </tbody>\n",
       "</table>\n",
       "</div>"
      ],
      "text/plain": [
       "    Female     Male\n",
       "0  49334.0  63795.0\n",
       "1  13279.0  17171.0"
      ]
     },
     "execution_count": 5,
     "metadata": {},
     "output_type": "execute_result"
    }
   ],
   "source": [
    "pd.DataFrame(\n",
    "    chi2_contingency(contingency_table).expected_freq,\n",
    "    columns=df_train[\"Gender\"].sort_values().unique(),\n",
    "    index=df_train[\"Exited\"].sort_values().unique(),\n",
    ").round()"
   ]
  },
  {
   "cell_type": "code",
   "execution_count": 6,
   "id": "374e06c1",
   "metadata": {},
   "outputs": [
    {
     "data": {
      "text/plain": [
       "<Axes: xlabel='Gender', ylabel='Exited'>"
      ]
     },
     "execution_count": 6,
     "metadata": {},
     "output_type": "execute_result"
    },
    {
     "data": {
      "image/png": "[encoded data removed]",
      "text/plain": [
       "<Figure size 640x480 with 2 Axes>"
      ]
     },
     "metadata": {},
     "output_type": "display_data"
    }
   ],
   "source": [
    "expected = chi2_contingency(contingency_table).expected_freq\n",
    "\n",
    "expected_df = pd.DataFrame(expected, \n",
    "                           index=contingency_table.index, \n",
    "                           columns=contingency_table.columns\n",
    "                           ).round()\n",
    "\n",
    "diff = expected_df - contingency_table\n",
    "\n",
    "\n",
    "sns.heatmap(diff, annot=True, cmap=\"bwr\")"
   ]
  },
  {
   "cell_type": "code",
   "execution_count": 7,
   "id": "19714b97",
   "metadata": {},
   "outputs": [
    {
     "name": "stdout",
     "output_type": "stream",
     "text": [
      "HO : 'Le nombre de clients qui résilient (Exited) et le sexe (Gender) sont 2 variables indépendantes l'une de l'autre'\n",
      "Nous avons suffisament d'évidence pour rejeter H0\n"
     ]
    }
   ],
   "source": [
    "print(\"HO : 'Le nombre de clients qui résilient (Exited) et le sexe (Gender) sont 2 variables indépendantes l'une de l'autre'\")\n",
    "\n",
    "alpha = 0.02\n",
    "p_value = chi2_contingency(contingency_table).pvalue\n",
    "\n",
    "if p_value < alpha:\n",
    "    print(\"Nous avons suffisament d'évidence pour rejeter H0\")\n",
    "else:\n",
    "    print(\"Nous n'avons pas suffisament d'évidence pour rejeter H0\")"
   ]
  },
  {
   "cell_type": "markdown",
   "id": "a25a819c",
   "metadata": {},
   "source": [
    "👉 Le test du χ² (p-value ≈ 0) rejette l’hypothèse d’indépendance entre le sexe et la résiliation.\n",
    "\n",
    "On observe une **sur-représentation des femmes** parmi les clients qui résilient, et une **sur-représentation des hommes** parmi ceux qui restent.\n",
    "\n",
    "Ainsi, **le genre a une influence significative sur le churn**.\n"
   ]
  },
  {
   "cell_type": "markdown",
   "id": "4a82e869",
   "metadata": {},
   "source": [
    "# 2. Les clients ayant 1 produit sont plus nombreuses à résilier que ceux en ayant 2"
   ]
  },
  {
   "cell_type": "markdown",
   "id": "34868942",
   "metadata": {},
   "source": [
    "Test chi2 contingency\n",
    "\n",
    "H0 : \"Le nombre de produit détenu par les clients (NumOfProducts) et le nombre de résiliation (Exited) <br>\n",
    "sont 2 variables indépendantes l'une de l'autre.\""
   ]
  },
  {
   "cell_type": "code",
   "execution_count": 8,
   "id": "49883367",
   "metadata": {},
   "outputs": [
    {
     "data": {
      "text/html": [
       "<div>\n",
       "<style scoped>\n",
       "    .dataframe tbody tr th:only-of-type {\n",
       "        vertical-align: middle;\n",
       "    }\n",
       "\n",
       "    .dataframe tbody tr th {\n",
       "        vertical-align: top;\n",
       "    }\n",
       "\n",
       "    .dataframe thead th {\n",
       "        text-align: right;\n",
       "    }\n",
       "</style>\n",
       "<table border=\"1\" class=\"dataframe\">\n",
       "  <thead>\n",
       "    <tr style=\"text-align: right;\">\n",
       "      <th>NumOfProducts</th>\n",
       "      <th>1</th>\n",
       "      <th>2</th>\n",
       "      <th>3</th>\n",
       "      <th>4</th>\n",
       "    </tr>\n",
       "    <tr>\n",
       "      <th>Exited</th>\n",
       "      <th></th>\n",
       "      <th></th>\n",
       "      <th></th>\n",
       "      <th></th>\n",
       "    </tr>\n",
       "  </thead>\n",
       "  <tbody>\n",
       "    <tr>\n",
       "      <th>0</th>\n",
       "      <td>43905</td>\n",
       "      <td>68879</td>\n",
       "      <td>292</td>\n",
       "      <td>53</td>\n",
       "    </tr>\n",
       "    <tr>\n",
       "      <th>1</th>\n",
       "      <td>23459</td>\n",
       "      <td>4422</td>\n",
       "      <td>2218</td>\n",
       "      <td>351</td>\n",
       "    </tr>\n",
       "  </tbody>\n",
       "</table>\n",
       "</div>"
      ],
      "text/plain": [
       "NumOfProducts      1      2     3    4\n",
       "Exited                                \n",
       "0              43905  68879   292   53\n",
       "1              23459   4422  2218  351"
      ]
     },
     "execution_count": 8,
     "metadata": {},
     "output_type": "execute_result"
    }
   ],
   "source": [
    "contingency_table = pd.crosstab(df_train[\"Exited\"], df_train[\"NumOfProducts\"])\n",
    "contingency_table"
   ]
  },
  {
   "cell_type": "code",
   "execution_count": 9,
   "id": "7b061778",
   "metadata": {},
   "outputs": [
    {
     "data": {
      "text/plain": [
       "Chi2ContingencyResult(statistic=np.float64(25393.715822144062), pvalue=np.float64(0.0), dof=3, expected_freq=array([[53077.55281761, 57755.44354676,  1977.6832963 ,   318.32033933],\n",
       "       [14286.44718239, 15545.55645324,   532.3167037 ,    85.67966067]]))"
      ]
     },
     "execution_count": 9,
     "metadata": {},
     "output_type": "execute_result"
    }
   ],
   "source": [
    "chi2_contingency(contingency_table)"
   ]
  },
  {
   "cell_type": "code",
   "execution_count": 10,
   "id": "9400623b",
   "metadata": {},
   "outputs": [
    {
     "data": {
      "text/html": [
       "<div>\n",
       "<style scoped>\n",
       "    .dataframe tbody tr th:only-of-type {\n",
       "        vertical-align: middle;\n",
       "    }\n",
       "\n",
       "    .dataframe tbody tr th {\n",
       "        vertical-align: top;\n",
       "    }\n",
       "\n",
       "    .dataframe thead th {\n",
       "        text-align: right;\n",
       "    }\n",
       "</style>\n",
       "<table border=\"1\" class=\"dataframe\">\n",
       "  <thead>\n",
       "    <tr style=\"text-align: right;\">\n",
       "      <th>NumOfProducts</th>\n",
       "      <th>1</th>\n",
       "      <th>2</th>\n",
       "      <th>3</th>\n",
       "      <th>4</th>\n",
       "    </tr>\n",
       "    <tr>\n",
       "      <th>Exited</th>\n",
       "      <th></th>\n",
       "      <th></th>\n",
       "      <th></th>\n",
       "      <th></th>\n",
       "    </tr>\n",
       "  </thead>\n",
       "  <tbody>\n",
       "    <tr>\n",
       "      <th>0</th>\n",
       "      <td>53078.0</td>\n",
       "      <td>57755.0</td>\n",
       "      <td>1978.0</td>\n",
       "      <td>318.0</td>\n",
       "    </tr>\n",
       "    <tr>\n",
       "      <th>1</th>\n",
       "      <td>14286.0</td>\n",
       "      <td>15546.0</td>\n",
       "      <td>532.0</td>\n",
       "      <td>86.0</td>\n",
       "    </tr>\n",
       "  </tbody>\n",
       "</table>\n",
       "</div>"
      ],
      "text/plain": [
       "NumOfProducts        1        2       3      4\n",
       "Exited                                        \n",
       "0              53078.0  57755.0  1978.0  318.0\n",
       "1              14286.0  15546.0   532.0   86.0"
      ]
     },
     "execution_count": 10,
     "metadata": {},
     "output_type": "execute_result"
    }
   ],
   "source": [
    "expected = chi2_contingency(contingency_table).expected_freq\n",
    "\n",
    "pd.DataFrame(\n",
    "    expected,\n",
    "    columns=contingency_table.columns,\n",
    "    index=contingency_table.index,\n",
    "    ).round()"
   ]
  },
  {
   "cell_type": "code",
   "execution_count": 11,
   "id": "7b3b3151",
   "metadata": {},
   "outputs": [
    {
     "data": {
      "text/plain": [
       "<Axes: xlabel='NumOfProducts', ylabel='Exited'>"
      ]
     },
     "execution_count": 11,
     "metadata": {},
     "output_type": "execute_result"
    },
    {
     "data": {
      "image/png": "[encoded data removed]",
      "text/plain": [
       "<Figure size 640x480 with 2 Axes>"
      ]
     },
     "metadata": {},
     "output_type": "display_data"
    }
   ],
   "source": [
    "diff = expected - contingency_table\n",
    "\n",
    "sns.heatmap(diff, annot=True, cmap=\"bwr\")"
   ]
  },
  {
   "cell_type": "code",
   "execution_count": 12,
   "id": "0b569a0e",
   "metadata": {},
   "outputs": [
    {
     "name": "stdout",
     "output_type": "stream",
     "text": [
      "H0 : 'Le nombre de clients qui résilient (Exited) et le nombre de produits souscrits (NumOfProducts) sont 2 variables indépendantes l'une de l'autre'\n",
      "Nous avons suffisament d'évidence pour rejeter H0\n"
     ]
    }
   ],
   "source": [
    "print(\"H0 : 'Le nombre de clients qui résilient (Exited) et le nombre de produits souscrits (NumOfProducts) sont 2 variables indépendantes l'une de l'autre'\")\n",
    "\n",
    "alpha = 0.02\n",
    "p_value = chi2_contingency(contingency_table).pvalue\n",
    "\n",
    "if p_value < alpha:\n",
    "    print(\"Nous avons suffisament d'évidence pour rejeter H0\")\n",
    "else:\n",
    "    print(\"Nous n'avons pas suffisament d'évidence pour rejeter H0\")"
   ]
  },
  {
   "cell_type": "markdown",
   "id": "21cbed9f",
   "metadata": {},
   "source": [
    "# 3. Les clients allemands sont plus nombreux à résilier que les clients Français et Espagnol"
   ]
  },
  {
   "cell_type": "markdown",
   "id": "7ac569f0",
   "metadata": {},
   "source": [
    "Test chi2 contingency\n",
    "\n",
    "H0 : \"Le nombre de clients ayant résilié (Exited) et le pays d'origine (Geography)<br> \n",
    "sont 2 variables indépendantes l'une de l'autre.\" "
   ]
  },
  {
   "cell_type": "code",
   "execution_count": 13,
   "id": "551ffd3b",
   "metadata": {},
   "outputs": [
    {
     "data": {
      "text/html": [
       "<div>\n",
       "<style scoped>\n",
       "    .dataframe tbody tr th:only-of-type {\n",
       "        vertical-align: middle;\n",
       "    }\n",
       "\n",
       "    .dataframe tbody tr th {\n",
       "        vertical-align: top;\n",
       "    }\n",
       "\n",
       "    .dataframe thead th {\n",
       "        text-align: right;\n",
       "    }\n",
       "</style>\n",
       "<table border=\"1\" class=\"dataframe\">\n",
       "  <thead>\n",
       "    <tr style=\"text-align: right;\">\n",
       "      <th>Geography</th>\n",
       "      <th>France</th>\n",
       "      <th>Germany</th>\n",
       "      <th>Spain</th>\n",
       "    </tr>\n",
       "    <tr>\n",
       "      <th>Exited</th>\n",
       "      <th></th>\n",
       "      <th></th>\n",
       "      <th></th>\n",
       "    </tr>\n",
       "  </thead>\n",
       "  <tbody>\n",
       "    <tr>\n",
       "      <th>0</th>\n",
       "      <td>68338</td>\n",
       "      <td>18657</td>\n",
       "      <td>26134</td>\n",
       "    </tr>\n",
       "    <tr>\n",
       "      <th>1</th>\n",
       "      <td>13548</td>\n",
       "      <td>11448</td>\n",
       "      <td>5454</td>\n",
       "    </tr>\n",
       "  </tbody>\n",
       "</table>\n",
       "</div>"
      ],
      "text/plain": [
       "Geography  France  Germany  Spain\n",
       "Exited                           \n",
       "0           68338    18657  26134\n",
       "1           13548    11448   5454"
      ]
     },
     "execution_count": 13,
     "metadata": {},
     "output_type": "execute_result"
    }
   ],
   "source": [
    "contingency_table = pd.crosstab(df_train[\"Exited\"], df_train[\"Geography\"])\n",
    "contingency_table"
   ]
  },
  {
   "cell_type": "code",
   "execution_count": 14,
   "id": "03185e12",
   "metadata": {},
   "outputs": [
    {
     "data": {
      "text/plain": [
       "Chi2ContingencyResult(statistic=np.float64(6455.578335753235), pvalue=np.float64(0.0), dof=2, expected_freq=array([[64519.75075742, 23720.38073117, 24888.86851141],\n",
       "       [17366.24924258,  6384.61926883,  6699.13148859]]))"
      ]
     },
     "execution_count": 14,
     "metadata": {},
     "output_type": "execute_result"
    }
   ],
   "source": [
    "chi2_contingency(contingency_table)"
   ]
  },
  {
   "cell_type": "code",
   "execution_count": 15,
   "id": "c97229ce",
   "metadata": {},
   "outputs": [
    {
     "data": {
      "text/html": [
       "<div>\n",
       "<style scoped>\n",
       "    .dataframe tbody tr th:only-of-type {\n",
       "        vertical-align: middle;\n",
       "    }\n",
       "\n",
       "    .dataframe tbody tr th {\n",
       "        vertical-align: top;\n",
       "    }\n",
       "\n",
       "    .dataframe thead th {\n",
       "        text-align: right;\n",
       "    }\n",
       "</style>\n",
       "<table border=\"1\" class=\"dataframe\">\n",
       "  <thead>\n",
       "    <tr style=\"text-align: right;\">\n",
       "      <th>Geography</th>\n",
       "      <th>France</th>\n",
       "      <th>Germany</th>\n",
       "      <th>Spain</th>\n",
       "    </tr>\n",
       "    <tr>\n",
       "      <th>Exited</th>\n",
       "      <th></th>\n",
       "      <th></th>\n",
       "      <th></th>\n",
       "    </tr>\n",
       "  </thead>\n",
       "  <tbody>\n",
       "    <tr>\n",
       "      <th>0</th>\n",
       "      <td>64520.0</td>\n",
       "      <td>23720.0</td>\n",
       "      <td>24889.0</td>\n",
       "    </tr>\n",
       "    <tr>\n",
       "      <th>1</th>\n",
       "      <td>17366.0</td>\n",
       "      <td>6385.0</td>\n",
       "      <td>6699.0</td>\n",
       "    </tr>\n",
       "  </tbody>\n",
       "</table>\n",
       "</div>"
      ],
      "text/plain": [
       "Geography   France  Germany    Spain\n",
       "Exited                              \n",
       "0          64520.0  23720.0  24889.0\n",
       "1          17366.0   6385.0   6699.0"
      ]
     },
     "execution_count": 15,
     "metadata": {},
     "output_type": "execute_result"
    }
   ],
   "source": [
    "pd.DataFrame(\n",
    "    chi2_contingency(contingency_table).expected_freq,\n",
    "    columns=contingency_table.columns,\n",
    "    index=contingency_table.index,\n",
    ").round()"
   ]
  },
  {
   "cell_type": "code",
   "execution_count": 16,
   "id": "165f7144",
   "metadata": {},
   "outputs": [
    {
     "data": {
      "text/plain": [
       "<Axes: xlabel='Geography', ylabel='Exited'>"
      ]
     },
     "execution_count": 16,
     "metadata": {},
     "output_type": "execute_result"
    },
    {
     "data": {
      "image/png": "[encoded data removed]",
      "text/plain": [
       "<Figure size 640x480 with 2 Axes>"
      ]
     },
     "metadata": {},
     "output_type": "display_data"
    }
   ],
   "source": [
    "expected = chi2_contingency(contingency_table).expected_freq\n",
    "\n",
    "diff = pd.DataFrame(\n",
    "    chi2_contingency(contingency_table).expected_freq,\n",
    "    columns=contingency_table.columns,\n",
    "    index=contingency_table.index,\n",
    ").round() - contingency_table\n",
    "\n",
    "sns.heatmap(diff, annot=True, cmap=\"bwr\")"
   ]
  },
  {
   "cell_type": "code",
   "execution_count": 17,
   "id": "7a9c214d",
   "metadata": {},
   "outputs": [
    {
     "name": "stdout",
     "output_type": "stream",
     "text": [
      "H0 : 'Le nombre de clients qui résilient (Exited) et la géographie (Geography) sont 2 variables indépendantes l'une de l'autre'\n",
      "Nous avons suffisament d'évidence pour rejeter H0\n"
     ]
    }
   ],
   "source": [
    "print(\"H0 : 'Le nombre de clients qui résilient (Exited) et la géographie (Geography) sont 2 variables indépendantes l'une de l'autre'\")\n",
    "\n",
    "alpha = 0.02\n",
    "p_value = chi2_contingency(contingency_table).pvalue\n",
    "\n",
    "if p_value < alpha:\n",
    "    print(\"Nous avons suffisament d'évidence pour rejeter H0\")\n",
    "else:\n",
    "    print(\"Nous n'avons pas suffisament d'évidence pour rejeter H0\")"
   ]
  },
  {
   "cell_type": "markdown",
   "id": "af6a22a9",
   "metadata": {},
   "source": [
    "# 4. Les clients actifs sont plus nombreux à résilier que les clients inactif"
   ]
  },
  {
   "cell_type": "markdown",
   "id": "a9cb43ba",
   "metadata": {},
   "source": [
    "Test chi2 contingency\n",
    "\n",
    "H0 : \"Le nombre de clients actif (IsActiveMember) et le nombre de clients qui résilient (Exited) sont 2 variables<br> \n",
    "indépendantes l'une de l'autre\""
   ]
  },
  {
   "cell_type": "code",
   "execution_count": 18,
   "id": "7ae29612",
   "metadata": {},
   "outputs": [
    {
     "data": {
      "text/html": [
       "<div>\n",
       "<style scoped>\n",
       "    .dataframe tbody tr th:only-of-type {\n",
       "        vertical-align: middle;\n",
       "    }\n",
       "\n",
       "    .dataframe tbody tr th {\n",
       "        vertical-align: top;\n",
       "    }\n",
       "\n",
       "    .dataframe thead th {\n",
       "        text-align: right;\n",
       "    }\n",
       "</style>\n",
       "<table border=\"1\" class=\"dataframe\">\n",
       "  <thead>\n",
       "    <tr style=\"text-align: right;\">\n",
       "      <th>IsActiveMember</th>\n",
       "      <th>0.0</th>\n",
       "      <th>1.0</th>\n",
       "    </tr>\n",
       "    <tr>\n",
       "      <th>Exited</th>\n",
       "      <th></th>\n",
       "      <th></th>\n",
       "    </tr>\n",
       "  </thead>\n",
       "  <tbody>\n",
       "    <tr>\n",
       "      <th>0</th>\n",
       "      <td>50742</td>\n",
       "      <td>62387</td>\n",
       "    </tr>\n",
       "    <tr>\n",
       "      <th>1</th>\n",
       "      <td>21507</td>\n",
       "      <td>8943</td>\n",
       "    </tr>\n",
       "  </tbody>\n",
       "</table>\n",
       "</div>"
      ],
      "text/plain": [
       "IsActiveMember    0.0    1.0\n",
       "Exited                      \n",
       "0               50742  62387\n",
       "1               21507   8943"
      ]
     },
     "execution_count": 18,
     "metadata": {},
     "output_type": "execute_result"
    }
   ],
   "source": [
    "contingency_table = pd.crosstab(df_train[\"Exited\"], df_train[\"IsActiveMember\"])\n",
    "contingency_table"
   ]
  },
  {
   "cell_type": "code",
   "execution_count": 19,
   "id": "044da2ee",
   "metadata": {},
   "outputs": [
    {
     "data": {
      "text/plain": [
       "Chi2ContingencyResult(statistic=np.float64(6376.075432276614), pvalue=np.float64(0.0), dof=1, expected_freq=array([[56926.5499899, 56202.4500101],\n",
       "       [15322.4500101, 15127.5499899]]))"
      ]
     },
     "execution_count": 19,
     "metadata": {},
     "output_type": "execute_result"
    }
   ],
   "source": [
    "chi2_contingency(contingency_table)"
   ]
  },
  {
   "cell_type": "code",
   "execution_count": 20,
   "id": "54ac83a6",
   "metadata": {},
   "outputs": [
    {
     "data": {
      "text/html": [
       "<div>\n",
       "<style scoped>\n",
       "    .dataframe tbody tr th:only-of-type {\n",
       "        vertical-align: middle;\n",
       "    }\n",
       "\n",
       "    .dataframe tbody tr th {\n",
       "        vertical-align: top;\n",
       "    }\n",
       "\n",
       "    .dataframe thead th {\n",
       "        text-align: right;\n",
       "    }\n",
       "</style>\n",
       "<table border=\"1\" class=\"dataframe\">\n",
       "  <thead>\n",
       "    <tr style=\"text-align: right;\">\n",
       "      <th>IsActiveMember</th>\n",
       "      <th>0.0</th>\n",
       "      <th>1.0</th>\n",
       "    </tr>\n",
       "    <tr>\n",
       "      <th>Exited</th>\n",
       "      <th></th>\n",
       "      <th></th>\n",
       "    </tr>\n",
       "  </thead>\n",
       "  <tbody>\n",
       "    <tr>\n",
       "      <th>0</th>\n",
       "      <td>56927.0</td>\n",
       "      <td>56202.0</td>\n",
       "    </tr>\n",
       "    <tr>\n",
       "      <th>1</th>\n",
       "      <td>15322.0</td>\n",
       "      <td>15128.0</td>\n",
       "    </tr>\n",
       "  </tbody>\n",
       "</table>\n",
       "</div>"
      ],
      "text/plain": [
       "IsActiveMember      0.0      1.0\n",
       "Exited                          \n",
       "0               56927.0  56202.0\n",
       "1               15322.0  15128.0"
      ]
     },
     "execution_count": 20,
     "metadata": {},
     "output_type": "execute_result"
    }
   ],
   "source": [
    "expected = chi2_contingency(contingency_table).expected_freq\n",
    "\n",
    "pd.DataFrame(\n",
    "    expected,\n",
    "    columns=contingency_table.columns,\n",
    "    index=contingency_table.index,\n",
    ").round()"
   ]
  },
  {
   "cell_type": "code",
   "execution_count": 21,
   "id": "681ef35f",
   "metadata": {},
   "outputs": [
    {
     "name": "stdout",
     "output_type": "stream",
     "text": [
      "H0 : 'Le nombre de clients qui résilient (Exited) et le statut d'adhésion (IsActiveMember) sont 2 variables indépendantes l'une de l'autre'\n",
      "Nous avons suffisament d'évidence pour rejeter H0\n"
     ]
    }
   ],
   "source": [
    "print(\"H0 : 'Le nombre de clients qui résilient (Exited) et le statut d'adhésion (IsActiveMember) sont 2 variables indépendantes l'une de l'autre'\")\n",
    "\n",
    "alpha = 0.02\n",
    "p_value = chi2_contingency(contingency_table).pvalue\n",
    "\n",
    "if p_value < alpha:\n",
    "    print(\"Nous avons suffisament d'évidence pour rejeter H0\")\n",
    "else:\n",
    "    print(\"Nous n'avons pas suffisament d'évidence pour rejeter H0\")"
   ]
  },
  {
   "cell_type": "markdown",
   "id": "50b41ec4",
   "metadata": {},
   "source": [
    "# 5. Les clients ayant un solde élevée sont plus nombreux à résilier (Attention avec médiane à 0 FR et ES)"
   ]
  },
  {
   "cell_type": "markdown",
   "id": "6d1f4dec",
   "metadata": {},
   "source": [
    "Test de student\n",
    "\n",
    "H0 : \"Les clients qui ont résilié ont en moyenne un solde égal aux autres.\" "
   ]
  },
  {
   "cell_type": "code",
   "execution_count": 22,
   "id": "e68d69c9",
   "metadata": {},
   "outputs": [
    {
     "data": {
      "text/html": [
       "<div>\n",
       "<style scoped>\n",
       "    .dataframe tbody tr th:only-of-type {\n",
       "        vertical-align: middle;\n",
       "    }\n",
       "\n",
       "    .dataframe tbody tr th {\n",
       "        vertical-align: top;\n",
       "    }\n",
       "\n",
       "    .dataframe thead th {\n",
       "        text-align: right;\n",
       "    }\n",
       "</style>\n",
       "<table border=\"1\" class=\"dataframe\">\n",
       "  <thead>\n",
       "    <tr style=\"text-align: right;\">\n",
       "      <th></th>\n",
       "      <th>count</th>\n",
       "      <th>mean</th>\n",
       "      <th>std</th>\n",
       "      <th>min</th>\n",
       "      <th>25%</th>\n",
       "      <th>50%</th>\n",
       "      <th>75%</th>\n",
       "      <th>max</th>\n",
       "    </tr>\n",
       "    <tr>\n",
       "      <th>Exited</th>\n",
       "      <th></th>\n",
       "      <th></th>\n",
       "      <th></th>\n",
       "      <th></th>\n",
       "      <th></th>\n",
       "      <th></th>\n",
       "      <th></th>\n",
       "      <th></th>\n",
       "    </tr>\n",
       "  </thead>\n",
       "  <tbody>\n",
       "    <tr>\n",
       "      <th>0</th>\n",
       "      <td>113129.0</td>\n",
       "      <td>51274.230558</td>\n",
       "      <td>62196.885812</td>\n",
       "      <td>0.0</td>\n",
       "      <td>0.0</td>\n",
       "      <td>0.00</td>\n",
       "      <td>116811.12</td>\n",
       "      <td>250898.09</td>\n",
       "    </tr>\n",
       "    <tr>\n",
       "      <th>1</th>\n",
       "      <td>30450.0</td>\n",
       "      <td>71358.363247</td>\n",
       "      <td>62606.860862</td>\n",
       "      <td>0.0</td>\n",
       "      <td>0.0</td>\n",
       "      <td>98959.19</td>\n",
       "      <td>125521.18</td>\n",
       "      <td>238387.56</td>\n",
       "    </tr>\n",
       "  </tbody>\n",
       "</table>\n",
       "</div>"
      ],
      "text/plain": [
       "           count          mean           std  min  25%       50%        75%  \\\n",
       "Exited                                                                        \n",
       "0       113129.0  51274.230558  62196.885812  0.0  0.0      0.00  116811.12   \n",
       "1        30450.0  71358.363247  62606.860862  0.0  0.0  98959.19  125521.18   \n",
       "\n",
       "              max  \n",
       "Exited             \n",
       "0       250898.09  \n",
       "1       238387.56  "
      ]
     },
     "execution_count": 22,
     "metadata": {},
     "output_type": "execute_result"
    }
   ],
   "source": [
    "df_train.groupby(\"Exited\")[\"Balance\"].describe()"
   ]
  },
  {
   "cell_type": "markdown",
   "id": "3e7b3722",
   "metadata": {},
   "source": [
    "- Les variances sont sensiblement identiques\n",
    "- Les données sont indépendantes\n",
    "- Il y a plus de 30 lignes de données pour chaque groupe (TCL)\n",
    "\n",
    "-\"Les données sont indépendantes car chaque observation (client) est distincte et ne dépend pas des autres. Il n'y a pas de duplication ou de lien entre les clients dans le dataset.\""
   ]
  },
  {
   "cell_type": "code",
   "execution_count": 25,
   "id": "db63a2e8",
   "metadata": {},
   "outputs": [
    {
     "data": {
      "text/plain": [
       "TtestResult(statistic=np.float64(49.94722364010174), pvalue=np.float64(0.0), df=np.float64(143577.0))"
      ]
     },
     "execution_count": 25,
     "metadata": {},
     "output_type": "execute_result"
    }
   ],
   "source": [
    "df_exited = df_train.query(\"Exited == 1\")\n",
    "df_NoExited = df_train.query(\"Exited == 0\")\n",
    "\n",
    "ttest_ind(df_exited[\"Balance\"], df_NoExited[\"Balance\"])"
   ]
  },
  {
   "cell_type": "code",
   "execution_count": 28,
   "id": "afefcf31",
   "metadata": {},
   "outputs": [
    {
     "name": "stdout",
     "output_type": "stream",
     "text": [
      "H0 : 'Les clients qui ont résilié ont un solde moyen identique à celui des clients qui n’ont pas résilié.'\n",
      "Nous avons suffisament d'évidence pour rejeter H0\n"
     ]
    }
   ],
   "source": [
    "print(\"H0 : 'Les clients qui ont résilié ont un solde moyen identique à celui des clients qui n’ont pas résilié.'\")\n",
    "\n",
    "alpha = 0.02\n",
    "p_value = ttest_ind(df_exited[\"Balance\"], df_NoExited[\"Balance\"]).pvalue\n",
    "\n",
    "if p_value < alpha:\n",
    "    print(\"Nous avons suffisament d'évidence pour rejeter H0\")\n",
    "else:\n",
    "    print(\"Nous n'avons pas suffisament d'évidence pour rejeter H0\")"
   ]
  },
  {
   "cell_type": "markdown",
   "id": "875f7e66",
   "metadata": {},
   "source": [
    "# 6. Les clients de 44 ans et plus sont plus nombreux à résilier"
   ]
  },
  {
   "cell_type": "markdown",
   "id": "ca519d82",
   "metadata": {},
   "source": [
    "Test de student\n",
    "\n",
    "H0 : \"Les clients qui résilient ont le même âge moyen que ceux qui ne résilient pas.\""
   ]
  },
  {
   "cell_type": "code",
   "execution_count": 29,
   "id": "0ce8d81f",
   "metadata": {},
   "outputs": [
    {
     "data": {
      "text/html": [
       "<div>\n",
       "<style scoped>\n",
       "    .dataframe tbody tr th:only-of-type {\n",
       "        vertical-align: middle;\n",
       "    }\n",
       "\n",
       "    .dataframe tbody tr th {\n",
       "        vertical-align: top;\n",
       "    }\n",
       "\n",
       "    .dataframe thead th {\n",
       "        text-align: right;\n",
       "    }\n",
       "</style>\n",
       "<table border=\"1\" class=\"dataframe\">\n",
       "  <thead>\n",
       "    <tr style=\"text-align: right;\">\n",
       "      <th></th>\n",
       "      <th>count</th>\n",
       "      <th>mean</th>\n",
       "      <th>std</th>\n",
       "      <th>min</th>\n",
       "      <th>25%</th>\n",
       "      <th>50%</th>\n",
       "      <th>75%</th>\n",
       "      <th>max</th>\n",
       "    </tr>\n",
       "    <tr>\n",
       "      <th>Exited</th>\n",
       "      <th></th>\n",
       "      <th></th>\n",
       "      <th></th>\n",
       "      <th></th>\n",
       "      <th></th>\n",
       "      <th></th>\n",
       "      <th></th>\n",
       "      <th></th>\n",
       "    </tr>\n",
       "  </thead>\n",
       "  <tbody>\n",
       "    <tr>\n",
       "      <th>0</th>\n",
       "      <td>113129.0</td>\n",
       "      <td>36.583765</td>\n",
       "      <td>8.166737</td>\n",
       "      <td>18.0</td>\n",
       "      <td>31.0</td>\n",
       "      <td>36.0</td>\n",
       "      <td>40.0</td>\n",
       "      <td>92.0</td>\n",
       "    </tr>\n",
       "    <tr>\n",
       "      <th>1</th>\n",
       "      <td>30450.0</td>\n",
       "      <td>43.942890</td>\n",
       "      <td>8.981339</td>\n",
       "      <td>18.0</td>\n",
       "      <td>38.0</td>\n",
       "      <td>44.0</td>\n",
       "      <td>50.0</td>\n",
       "      <td>92.0</td>\n",
       "    </tr>\n",
       "  </tbody>\n",
       "</table>\n",
       "</div>"
      ],
      "text/plain": [
       "           count       mean       std   min   25%   50%   75%   max\n",
       "Exited                                                             \n",
       "0       113129.0  36.583765  8.166737  18.0  31.0  36.0  40.0  92.0\n",
       "1        30450.0  43.942890  8.981339  18.0  38.0  44.0  50.0  92.0"
      ]
     },
     "execution_count": 29,
     "metadata": {},
     "output_type": "execute_result"
    }
   ],
   "source": [
    "df_train.groupby(\"Exited\")[\"Age\"].describe()"
   ]
  },
  {
   "cell_type": "code",
   "execution_count": 30,
   "id": "9ddf5757",
   "metadata": {},
   "outputs": [
    {
     "data": {
      "text/plain": [
       "TtestResult(statistic=np.float64(136.5764217714973), pvalue=np.float64(0.0), df=np.float64(143577.0))"
      ]
     },
     "execution_count": 30,
     "metadata": {},
     "output_type": "execute_result"
    }
   ],
   "source": [
    "df_exited = df_train.query(\"Exited == 1\")\n",
    "df_NoExited = df_train.query(\"Exited == 0\")\n",
    "\n",
    "ttest_ind(df_exited[\"Age\"], df_NoExited[\"Age\"])"
   ]
  },
  {
   "cell_type": "code",
   "execution_count": 31,
   "id": "be7411a9",
   "metadata": {},
   "outputs": [
    {
     "name": "stdout",
     "output_type": "stream",
     "text": [
      "H0 : 'Les clients qui résilient ont le même âge moyen que ceux qui ne résilient pas.'\n",
      "Nous avons suffisament d'évidence pour rejeter H0\n"
     ]
    }
   ],
   "source": [
    "print(\"H0 : 'Les clients qui résilient ont le même âge moyen que ceux qui ne résilient pas.'\")\n",
    "\n",
    "alpha = 0.02\n",
    "p_value = ttest_ind(df_exited[\"Age\"], df_NoExited[\"Age\"]).pvalue\n",
    "\n",
    "if p_value < alpha:\n",
    "    print(\"Nous avons suffisament d'évidence pour rejeter H0\")\n",
    "else:\n",
    "    print(\"Nous n'avons pas suffisament d'évidence pour rejeter H0\")"
   ]
  }
 ],
 "metadata": {
  "kernelspec": {
   "display_name": "Poetry (mlpro-bank-churn)",
   "language": "python",
   "name": "mlpro-bank-churn"
  },
  "language_info": {
   "codemirror_mode": {
    "name": "ipython",
    "version": 3
   },
   "file_extension": ".py",
   "mimetype": "text/x-python",
   "name": "python",
   "nbconvert_exporter": "python",
   "pygments_lexer": "ipython3",
   "version": "3.12.3"
  }
 },
 "nbformat": 4,
 "nbformat_minor": 5
}
